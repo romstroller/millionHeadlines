{
 "cells": [
  {
   "cell_type": "code",
   "execution_count": null,
   "metadata": {
    "collapsed": true
   },
   "outputs": [],
   "source": []
  },
  {
   "cell_type": "markdown",
   "source": [
    "## Gender in a million headlines\n",
    "\n",
    "**What can headlines from the Australian national broadcaster (the ABC) </br>\n",
    "tell us about the concerns of the Australian public over time, where those </br>\n",
    "concerns relate to male and/or female persons?**"
   ],
   "metadata": {
    "collapsed": false
   }
  },
  {
   "cell_type": "code",
   "execution_count": 99,
   "outputs": [],
   "source": [
    "from FileTools import FileTools\n",
    "from collections import Counter\n",
    "import pandas as pd\n",
    "import nltk\n",
    "import os\n",
    "\n",
    "# import time  # remove after testing\n",
    "\n",
    "# import numpy as np\n",
    "\n",
    "import matplotlib.pyplot as plt\n",
    "\n",
    "# import seaborn as sns\n",
    "# import re"
   ],
   "metadata": {
    "collapsed": false,
    "pycharm": {
     "name": "#%%\n"
    }
   }
  },
  {
   "cell_type": "markdown",
   "source": [
    "### Data acquisition, cleaning and feature engineering"
   ],
   "metadata": {
    "collapsed": false
   }
  },
  {
   "cell_type": "code",
   "execution_count": 4,
   "outputs": [
    {
     "name": "stdout",
     "output_type": "stream",
     "text": [
      "Waiting for dataset download\n",
      "Latest: million-headlines.zip\n",
      "Got DF from extracted dSet at:\n",
      " C:\\Users\\romstroller\\PYC\\pythonProject3\\data_or\\abcnews-date-text.csv\n"
     ]
    },
    {
     "data": {
      "text/plain": "         publish_date                                      headline_text\n0            20030219  aba decides against community broadcasting lic...\n1            20030219     act fire witnesses must be aware of defamation\n2            20030219     a g calls for infrastructure protection summit\n3            20030219           air nz staff in aust strike for pay rise\n4            20030219      air nz strike to affect australian travellers\n...               ...                                                ...\n1244179      20211231  two aged care residents die as state records 2...\n1244180      20211231  victoria records 5;919 new cases and seven deaths\n1244181      20211231    wa delays adopting new close contact definition\n1244182      20211231  western ringtail possums found badly dehydrate...\n1244183      20211231  what makes you a close covid contact here are ...\n\n[1244184 rows x 2 columns]",
      "text/html": "<div>\n<style scoped>\n    .dataframe tbody tr th:only-of-type {\n        vertical-align: middle;\n    }\n\n    .dataframe tbody tr th {\n        vertical-align: top;\n    }\n\n    .dataframe thead th {\n        text-align: right;\n    }\n</style>\n<table border=\"1\" class=\"dataframe\">\n  <thead>\n    <tr style=\"text-align: right;\">\n      <th></th>\n      <th>publish_date</th>\n      <th>headline_text</th>\n    </tr>\n  </thead>\n  <tbody>\n    <tr>\n      <th>0</th>\n      <td>20030219</td>\n      <td>aba decides against community broadcasting lic...</td>\n    </tr>\n    <tr>\n      <th>1</th>\n      <td>20030219</td>\n      <td>act fire witnesses must be aware of defamation</td>\n    </tr>\n    <tr>\n      <th>2</th>\n      <td>20030219</td>\n      <td>a g calls for infrastructure protection summit</td>\n    </tr>\n    <tr>\n      <th>3</th>\n      <td>20030219</td>\n      <td>air nz staff in aust strike for pay rise</td>\n    </tr>\n    <tr>\n      <th>4</th>\n      <td>20030219</td>\n      <td>air nz strike to affect australian travellers</td>\n    </tr>\n    <tr>\n      <th>...</th>\n      <td>...</td>\n      <td>...</td>\n    </tr>\n    <tr>\n      <th>1244179</th>\n      <td>20211231</td>\n      <td>two aged care residents die as state records 2...</td>\n    </tr>\n    <tr>\n      <th>1244180</th>\n      <td>20211231</td>\n      <td>victoria records 5;919 new cases and seven deaths</td>\n    </tr>\n    <tr>\n      <th>1244181</th>\n      <td>20211231</td>\n      <td>wa delays adopting new close contact definition</td>\n    </tr>\n    <tr>\n      <th>1244182</th>\n      <td>20211231</td>\n      <td>western ringtail possums found badly dehydrate...</td>\n    </tr>\n    <tr>\n      <th>1244183</th>\n      <td>20211231</td>\n      <td>what makes you a close covid contact here are ...</td>\n    </tr>\n  </tbody>\n</table>\n<p>1244184 rows × 2 columns</p>\n</div>"
     },
     "execution_count": 4,
     "metadata": {},
     "output_type": "execute_result"
    }
   ],
   "source": [
    "# authenticate and load kaggle dataset (github.com/romstroller/FileTools)\n",
    "fTools = FileTools()\n",
    "dfOrig = fTools.getKaggleSet( 'therohk', 'million-headlines' )\n",
    "dfOrig"
   ],
   "metadata": {
    "collapsed": false,
    "pycharm": {
     "name": "#%%\n"
    }
   }
  },
  {
   "cell_type": "markdown",
   "source": [
    "The most flexible / granular set of data would be a list comprised of all </br>\n",
    "the words in all headlines, each paired to the date of the headline in </br>\n",
    "which they featured."
   ],
   "metadata": {
    "collapsed": false
   }
  },
  {
   "cell_type": "code",
   "execution_count": 8,
   "outputs": [
    {
     "data": {
      "text/plain": "             date          word\n0        20030219           aba\n1        20030219       decides\n2        20030219       against\n3        20030219     community\n4        20030219  broadcasting\n...           ...           ...\n8158762  20211231          here\n8158763  20211231           are\n8158764  20211231           the\n8158765  20211231           new\n8158766  20211231         rules\n\n[8158767 rows x 2 columns]",
      "text/html": "<div>\n<style scoped>\n    .dataframe tbody tr th:only-of-type {\n        vertical-align: middle;\n    }\n\n    .dataframe tbody tr th {\n        vertical-align: top;\n    }\n\n    .dataframe thead th {\n        text-align: right;\n    }\n</style>\n<table border=\"1\" class=\"dataframe\">\n  <thead>\n    <tr style=\"text-align: right;\">\n      <th></th>\n      <th>date</th>\n      <th>word</th>\n    </tr>\n  </thead>\n  <tbody>\n    <tr>\n      <th>0</th>\n      <td>20030219</td>\n      <td>aba</td>\n    </tr>\n    <tr>\n      <th>1</th>\n      <td>20030219</td>\n      <td>decides</td>\n    </tr>\n    <tr>\n      <th>2</th>\n      <td>20030219</td>\n      <td>against</td>\n    </tr>\n    <tr>\n      <th>3</th>\n      <td>20030219</td>\n      <td>community</td>\n    </tr>\n    <tr>\n      <th>4</th>\n      <td>20030219</td>\n      <td>broadcasting</td>\n    </tr>\n    <tr>\n      <th>...</th>\n      <td>...</td>\n      <td>...</td>\n    </tr>\n    <tr>\n      <th>8158762</th>\n      <td>20211231</td>\n      <td>here</td>\n    </tr>\n    <tr>\n      <th>8158763</th>\n      <td>20211231</td>\n      <td>are</td>\n    </tr>\n    <tr>\n      <th>8158764</th>\n      <td>20211231</td>\n      <td>the</td>\n    </tr>\n    <tr>\n      <th>8158765</th>\n      <td>20211231</td>\n      <td>new</td>\n    </tr>\n    <tr>\n      <th>8158766</th>\n      <td>20211231</td>\n      <td>rules</td>\n    </tr>\n  </tbody>\n</table>\n<p>8158767 rows × 2 columns</p>\n</div>"
     },
     "execution_count": 8,
     "metadata": {},
     "output_type": "execute_result"
    }
   ],
   "source": [
    "# split headlines into word-by-date\n",
    "df = pd.DataFrame( dfOrig.headline_text.str.split( ' ' ).tolist(),\n",
    "    index=dfOrig.publish_date ).stack().reset_index( inplace=False )\n",
    "df.rename( columns={ 0: 'word', 'publish_date': 'date' }, inplace=True )\n",
    "del df[ 'level_1' ]\n",
    "df"
   ],
   "metadata": {
    "collapsed": false,
    "pycharm": {
     "name": "#%%\n"
    }
   }
  },
  {
   "cell_type": "markdown",
   "source": [
    "#### Assumptions and definitions\n",
    "\n",
    "It is important to point out that there is no guaranteed metric available\n",
    "for the \"concerns\" of an audience, unless a profoundly narrowed definition\n",
    "for concern is approximated using, for example, a set of behavioural indicators.\n",
    "\n",
    "In the limitations of this dataset, we will need to equate \"concern\" with the\n",
    "prominence of particular patterns of reference. This speaks more directly to the \n",
    "\"concern\" of ABC-published journalism. \n",
    "\n",
    "To conduct the project, we make the assumption that public concern may be \n",
    "estimated by the frequency of words in a headline (\"headwords\") that appear \n",
    "together in a manner indicating uniform objects of communication. \n",
    "\n",
    "*Concern* is thus \"headword frequency\", or headword-count-at-date.\n",
    "\n",
    "##### GENDER KEYWORDS\n",
    "\n",
    "More specifically, gendered individuals as objects of communication will be \n",
    "estimated to occur, **in a set where non-gendered stopwords are omitted**,\n",
    "\n",
    "###### VARIANT ONE (drafted):\n",
    "- for males, equally with \"man\" and \"men\", and for females, likewise with \"woman\" \n",
    "and \"women\".\n",
    "\n",
    "###### VARIANT TWO (extend):\n",
    "- Include \"male\", \"males\", \"man\", \"men, \"female\", \"females\", \"woman\", \"women\"\n",
    "- \"boys\", \"boy\", \"girl\", \"girls\"\n",
    "- NORMALIZE CAPITALIZATION\n",
    "- \"for males, equally for occurances of \"he\", \"him\", \"his\", \"himself\" ( and \n",
    "common syntactical variations like \"he's\" and \"he'd\" ) and equivalently for \n",
    "females with \"she\", \"her\", \"hers\", \"herself\".\"\n",
    "\n",
    "**run word count for initial indicators**"
   ],
   "metadata": {
    "collapsed": false
   }
  },
  {
   "cell_type": "code",
   "execution_count": 23,
   "outputs": [
    {
     "data": {
      "text/plain": "[('to', 238375),\n ('in', 156175),\n ('for', 143272),\n ('of', 95940),\n ('on', 82014),\n ('the', 65048),\n ('over', 54527),\n ('police', 39813),\n ('at', 36887),\n ('with', 36331),\n ('after', 34641),\n ('new', 33729),\n ('a', 31148),\n ('man', 30627),\n ('and', 30069),\n ('as', 24333),\n ('says', 23731),\n ('from', 23440),\n ('up', 22872),\n ('by', 21375),\n ('us', 20370),\n ('out', 19117),\n ('be', 18199),\n ('court', 18180),\n ('govt', 17091)]"
     },
     "execution_count": 23,
     "metadata": {},
     "output_type": "execute_result"
    }
   ],
   "source": [
    "# testing counter\n",
    "wordcount = Counter( df[ 'word' ].tolist() )\n",
    "wordcount.most_common()[ :25 ]"
   ],
   "metadata": {
    "collapsed": false,
    "pycharm": {
     "name": "#%%\n"
    }
   }
  },
  {
   "cell_type": "code",
   "execution_count": 29,
   "outputs": [
    {
     "name": "stderr",
     "output_type": "stream",
     "text": [
      "[nltk_data] Downloading package stopwords to\n",
      "[nltk_data]     C:\\Users\\romstroller\\PYC\\pythonProject3...\n",
      "[nltk_data]   Package stopwords is already up-to-date!\n"
     ]
    },
    {
     "data": {
      "text/plain": "[('police', 39813),\n ('new', 33729),\n ('man', 30627),\n ('says', 23731),\n ('us', 20370),\n ('court', 18180),\n ('govt', 17091),\n ('australia', 17071),\n ('council', 16955),\n ('nsw', 16516),\n ('fire', 15512),\n ('interview', 15426),\n ('australian', 13632),\n ('wa', 13464),\n ('sydney', 13065),\n ('plan', 12993),\n ('water', 12850),\n ('death', 12749),\n ('qld', 12590),\n ('crash', 12356),\n ('health', 11967),\n ('back', 11221),\n ('charged', 11193),\n ('murder', 10529),\n ('report', 10413)]"
     },
     "execution_count": 29,
     "metadata": {},
     "output_type": "execute_result"
    }
   ],
   "source": [
    "nltk.download( 'stopwords', download_dir=os.getcwd() )\n",
    "\n",
    "with open( \"corpora\\stopwords\\english\", 'r' ) as f:\n",
    "    stopwords = [ line.strip() for line in f ]\n",
    "\n",
    "# stopwords includes:\n",
    "#      'he',\n",
    "#      'him',\n",
    "#      'his',\n",
    "#      'himself',\n",
    "#      'she',\n",
    "#      \"she's\",\n",
    "#      'her',\n",
    "#      'hers',\n",
    "#      'herself',\n",
    "\n",
    "stopwordsV1 = [ w for w in stopwords if w not in [\n",
    "    \"man\", \"men\", \"woman\", \"women\" ] ]\n",
    "\n",
    "dfNonStopV1 = df[ ~df[ 'word' ].isin( stopwordsV1 ) ]\n",
    "\n",
    "# re-testing counter\n",
    "wordcount = Counter( dfNonStopV1[ 'word' ].tolist() )\n",
    "wdCountSt = wordcount.most_common()\n",
    "wdCountSt[ :25 ]"
   ],
   "metadata": {
    "collapsed": false,
    "pycharm": {
     "name": "#%%\n"
    }
   }
  },
  {
   "cell_type": "markdown",
   "source": [
    "#### Initial observations\n",
    "\n",
    "A glaring insight for our objective is already available at this point:\n",
    "*man* is the third-most common word altogether, gendered or otherwise, in \n",
    "this cleaned dataset, while none of our female headwords are even in the \n",
    "top 25. How are the female headwords ranked?"
   ],
   "metadata": {
    "collapsed": false,
    "pycharm": {
     "name": "#%% md\n"
    }
   }
  },
  {
   "cell_type": "code",
   "execution_count": 41,
   "outputs": [
    {
     "name": "stdout",
     "output_type": "stream",
     "text": [
      "['pos 2: man (cnt 30627)', 'pos 36: woman (cnt 9463)', 'pos 245: women (cnt 3867)', 'pos 320: men (cnt 3160)']\n"
     ]
    }
   ],
   "source": [
    "print( [ f\"pos {i}: {x[ 0 ]} (cnt {x[ 1 ]})\" for i, x in enumerate( wdCountSt )\n",
    "    if x[ 0 ] in [ \"man\", \"men\", \"woman\", \"women\" ] ] )"
   ],
   "metadata": {
    "collapsed": false,
    "pycharm": {
     "name": "#%% \n"
    }
   }
  },
  {
   "cell_type": "markdown",
   "source": [
    "\"Woman\" doesn't get in the ranking until 37th, and over three times \n",
    "less-frequently than \"man\". Somewhat interestingly, \"women\" then appears at \n",
    "246th, some ways above \"men\" at 321th. In the simplistic limitations of our \n",
    "analysis, if a group of gendered people is of concern, it is more likely to be \n",
    "of women, while if a gendered individual is of concern, it is more likely to be \n",
    "a man. "
   ],
   "metadata": {
    "collapsed": false,
    "pycharm": {
     "name": "#%% md\n"
    }
   }
  },
  {
   "cell_type": "code",
   "execution_count": 101,
   "outputs": [],
   "source": [
    "# produce dfs grouping monthly counts for each gender headword set \n",
    "genDfs = [ ]\n",
    "for gdr in [ [ \"man\", \"men\" ], [ \"woman\", \"women\" ] ]:\n",
    "    gDf = pd.concat( [\n",
    "        dfNonStopV1[ dfNonStopV1.word == gdr[ 0 ] ],\n",
    "        dfNonStopV1[ dfNonStopV1.word == gdr[ 1 ] ]\n",
    "        ], axis=0 ).sort_values( by=[ 'date' ], ascending=True )\n",
    "    gDf[ 'date' ] = gDf[ 'date' ].astype( str ).str[ :6 ]  # by month; disab for linegr?\n",
    "    gDf = gDf.groupby( 'date' ).size().reset_index( name='count' )\n",
    "    genDfs.append( gDf )\n",
    "\n",
    "menDf, femDf = genDfs\n"
   ],
   "metadata": {
    "collapsed": false,
    "pycharm": {
     "name": "#%% \n"
    }
   }
  },
  {
   "cell_type": "markdown",
   "source": [
    "## Visualisation"
   ],
   "metadata": {
    "collapsed": false
   }
  },
  {
   "cell_type": "code",
   "execution_count": 114,
   "outputs": [
    {
     "data": {
      "text/plain": "<Figure size 3600x360 with 1 Axes>",
      "image/png": "[encoded data removed]"
     },
     "metadata": {},
     "output_type": "display_data"
    }
   ],
   "source": [
    "plt.style.use( 'ggplot' )\n",
    "plt.figure( figsize=(50, 5), facecolor=\"silver\" )\n",
    "\n",
    "x = menDf[ 'date' ]\n",
    "x_pos = [ i for i, _ in enumerate( x ) ]\n",
    "\n",
    "countman, countwom = menDf[ 'count' ], femDf[ 'count' ]\n",
    "plt.bar( x_pos, countman, color='yellow', label='Man / Men' )\n",
    "plt.bar( x_pos, countwom, color='purple', alpha=0.5, label='Woman / Women' )\n",
    "\n",
    "plt.xlabel( \"YYMM\" )\n",
    "plt.ylabel( \"Count\" )\n",
    "plt.title( \"Headline Occurrence - Women vs. Men (2003 - 2019)\" )\n",
    "plt.xticks( x_pos, x )\n",
    "plt.xticks( rotation=90 )\n",
    "\n",
    "plt.savefig('Gendered_headword_prominence.png', bbox_inches='tight')\n",
    "plt.show()\n",
    "\n"
   ],
   "metadata": {
    "collapsed": false,
    "pycharm": {
     "name": "#%% \n"
    }
   }
  },
  {
   "cell_type": "markdown",
   "source": [
    "## Interpretation\n",
    "\n",
    "#### Summary observations\n",
    "\n",
    "- Men are always mentioned more often than women; there is not one month when \n",
    "this is otherwise.\n",
    "- Women begin in 2003 being mentioned consistently around 1/5 - 1/4 as often as \n",
    "men are\n",
    "- At around the beginning of 2013, women are being mentioned consistenly around \n",
    "half as often as men. \n",
    "- From the beginning of 2017, women begin to draw close to parity with men, \n",
    "ending at around 4/5 the mention rate of men.\n",
    "- That this convergence is largely a result of the words \"men\" and \"man\" being \n",
    "used less, rather than \"woman\" and \"women\" being used more\n",
    "- The closest month to parity, March 2017, coincides near International Women's \n",
    "Day on the 8th.\n",
    "## trend breaks 202103\n",
    "\n",
    "**Key interpretation: the public concern for stories dominated by either gender \n",
    "in particular as drawn significantly close to parity in recent years, while \n",
    "women remain consistently less in-focus than men.**"
   ],
   "metadata": {
    "collapsed": false,
    "pycharm": {
     "name": "#%% md\n"
    }
   }
  },
  {
   "cell_type": "code",
   "execution_count": 97,
   "outputs": [],
   "source": [
    "\n"
   ],
   "metadata": {
    "collapsed": false,
    "pycharm": {
     "name": "#%% \n"
    }
   }
  },
  {
   "cell_type": "code",
   "execution_count": null,
   "outputs": [],
   "source": [],
   "metadata": {
    "collapsed": false,
    "pycharm": {
     "name": "#%%  # END_INCLUDE"
    }
   }
  }
 ],
 "metadata": {
  "kernelspec": {
   "display_name": "Python 3",
   "language": "python",
   "name": "python3"
  },
  "language_info": {
   "codemirror_mode": {
    "name": "ipython",
    "version": 2
   },
   "file_extension": ".py",
   "mimetype": "text/x-python",
   "name": "python",
   "nbconvert_exporter": "python",
   "pygments_lexer": "ipython2",
   "version": "2.7.6"
  }
 },
 "nbformat": 4,
 "nbformat_minor": 0
}