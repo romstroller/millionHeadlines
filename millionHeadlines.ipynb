{
 "cells": [
  {
   "cell_type": "code",
   "execution_count": null,
   "metadata": {
    "collapsed": true
   },
   "outputs": [],
   "source": []
  },
  {
   "cell_type": "markdown",
   "source": [
    "## Gender in a million headlines\n",
    "\n",
    "**What can headlines from the Australian national broadcaster (the ABC) tell us \n",
    "about the concerns of the Australian public over time, where those concerns \n",
    "relate to male and/or female persons?**"
   ],
   "metadata": {
    "collapsed": false
   }
  },
  {
   "cell_type": "code",
   "execution_count": 1,
   "outputs": [],
   "source": [
    "import osOps  # see github.com/romstroller/FileTools\n",
    "\n",
    "from collections import Counter\n",
    "import pandas as pd\n",
    "import nltk\n",
    "import os\n",
    "\n",
    "import matplotlib.pyplot as plt"
   ],
   "metadata": {
    "collapsed": false,
    "pycharm": {
     "name": "#%%\n"
    }
   }
  },
  {
   "cell_type": "markdown",
   "source": [
    "### Data acquisition, cleaning and feature engineering"
   ],
   "metadata": {
    "collapsed": false
   }
  },
  {
   "cell_type": "code",
   "execution_count": 2,
   "outputs": [
    {
     "name": "stdout",
     "output_type": "stream",
     "text": [
      "- [221005_231412507866] Waiting for API request\n",
      "- [221005_231413517425] Got million-headlines.zip\n",
      "- [221005_231413765618] Read DF from extracted set\n"
     ]
    }
   ],
   "source": [
    "dfOrig = osOps.OsKit().getKaggleSet( 'therohk', 'million-headlines' )"
   ],
   "metadata": {
    "collapsed": false,
    "pycharm": {
     "name": "#%%\n"
    }
   }
  },
  {
   "cell_type": "markdown",
   "source": [
    "The most flexible / granular set of data would be a list comprised of all the \n",
    "words in all headlines, each paired to the date of the headline in which they \n",
    "featured."
   ],
   "metadata": {
    "collapsed": false
   }
  },
  {
   "cell_type": "code",
   "execution_count": 3,
   "outputs": [
    {
     "data": {
      "text/plain": "             date          word\n0        20030219           aba\n1        20030219       decides\n2        20030219       against\n3        20030219     community\n4        20030219  broadcasting\n...           ...           ...\n8158762  20211231          here\n8158763  20211231           are\n8158764  20211231           the\n8158765  20211231           new\n8158766  20211231         rules\n\n[8158767 rows x 2 columns]",
      "text/html": "<div>\n<style scoped>\n    .dataframe tbody tr th:only-of-type {\n        vertical-align: middle;\n    }\n\n    .dataframe tbody tr th {\n        vertical-align: top;\n    }\n\n    .dataframe thead th {\n        text-align: right;\n    }\n</style>\n<table border=\"1\" class=\"dataframe\">\n  <thead>\n    <tr style=\"text-align: right;\">\n      <th></th>\n      <th>date</th>\n      <th>word</th>\n    </tr>\n  </thead>\n  <tbody>\n    <tr>\n      <th>0</th>\n      <td>20030219</td>\n      <td>aba</td>\n    </tr>\n    <tr>\n      <th>1</th>\n      <td>20030219</td>\n      <td>decides</td>\n    </tr>\n    <tr>\n      <th>2</th>\n      <td>20030219</td>\n      <td>against</td>\n    </tr>\n    <tr>\n      <th>3</th>\n      <td>20030219</td>\n      <td>community</td>\n    </tr>\n    <tr>\n      <th>4</th>\n      <td>20030219</td>\n      <td>broadcasting</td>\n    </tr>\n    <tr>\n      <th>...</th>\n      <td>...</td>\n      <td>...</td>\n    </tr>\n    <tr>\n      <th>8158762</th>\n      <td>20211231</td>\n      <td>here</td>\n    </tr>\n    <tr>\n      <th>8158763</th>\n      <td>20211231</td>\n      <td>are</td>\n    </tr>\n    <tr>\n      <th>8158764</th>\n      <td>20211231</td>\n      <td>the</td>\n    </tr>\n    <tr>\n      <th>8158765</th>\n      <td>20211231</td>\n      <td>new</td>\n    </tr>\n    <tr>\n      <th>8158766</th>\n      <td>20211231</td>\n      <td>rules</td>\n    </tr>\n  </tbody>\n</table>\n<p>8158767 rows × 2 columns</p>\n</div>"
     },
     "execution_count": 3,
     "metadata": {},
     "output_type": "execute_result"
    }
   ],
   "source": [
    "# split headlines into word-by-date\n",
    "df = pd.DataFrame( dfOrig.headline_text.str.split( ' ' ).tolist(),\n",
    "    index=dfOrig.publish_date ).stack().reset_index( inplace=False )\n",
    "df.rename( columns={ 0: 'word', 'publish_date': 'date' }, inplace=True )\n",
    "del df[ 'level_1' ]\n",
    "df"
   ],
   "metadata": {
    "collapsed": false,
    "pycharm": {
     "name": "#%%\n"
    }
   }
  },
  {
   "cell_type": "markdown",
   "source": [
    "#### Assumptions and definitions\n",
    "\n",
    "It is important to point out that there is no guaranteed metric available\n",
    "for the \"concerns\" of an audience, unless a profoundly narrowed definition\n",
    "for concern is approximated using, for example, a set of behavioural indicators.\n",
    "\n",
    "In the limitations of this dataset, we will need to equate \"concern\" with the\n",
    "prominence of particular patterns of reference. This speaks more directly to the \n",
    "\"concern\" of ABC-published journalism. \n",
    "\n",
    "To conduct the project, we make the assumption that public concern may be \n",
    "estimated by the frequency of words in a headline (\"headwords\") that appear \n",
    "together in a manner indicating uniform objects of communication. \n",
    "\n",
    "*Concern* is thus \"headword frequency\", or headword-count-at-date.\n",
    "\n",
    "#### Gender keywords\n",
    "\n",
    "More specifically, gendered individuals as objects of communication will (in a \n",
    "set where non-gendered stopwords are omitted) be estimated to occur:\n",
    "\n",
    "- Variant one (drafted): for males, equally with \"man\" and \"men\", and for females, likewise with \"woman\" \n",
    "and \"women\".\n",
    "- Variant two (extend):\n",
    " - Include \"male\", \"males\", \"man\", \"men, \"female\", \"females\", \"woman\", \"women\"\n",
    " - \"for males, equally for occurances of \"he\", \"him\", \"his\", \"himself\" ( and \n",
    "common syntactical variations like \"he's\" and \"he'd\" ) and equivalently for \n",
    "females with \"she\", \"her\", \"hers\", \"herself\".\"\n",
    " - \"boys\", \"boy\", \"girl\", \"girls\"\n",
    "\n",
    "#### Get count"
   ],
   "metadata": {
    "collapsed": false
   }
  },
  {
   "cell_type": "code",
   "execution_count": 4,
   "outputs": [
    {
     "data": {
      "text/plain": "[('to', 238375),\n ('in', 156175),\n ('for', 143272),\n ('of', 95940),\n ('on', 82014),\n ('the', 65048),\n ('over', 54527),\n ('police', 39813),\n ('at', 36887),\n ('with', 36331),\n ('after', 34641),\n ('new', 33729),\n ('a', 31148),\n ('man', 30627),\n ('and', 30069),\n ('as', 24333),\n ('says', 23731),\n ('from', 23440),\n ('up', 22872),\n ('by', 21375),\n ('us', 20370),\n ('out', 19117),\n ('be', 18199),\n ('court', 18180),\n ('govt', 17091)]"
     },
     "execution_count": 4,
     "metadata": {},
     "output_type": "execute_result"
    }
   ],
   "source": [
    "# testing counter\n",
    "wordcount = Counter( df[ 'word' ].tolist() )\n",
    "wordcount.most_common()[ :25 ]"
   ],
   "metadata": {
    "collapsed": false,
    "pycharm": {
     "name": "#%%\n"
    }
   }
  },
  {
   "cell_type": "markdown",
   "source": [
    "#### Get count omitting stopwords"
   ],
   "metadata": {
    "collapsed": false,
    "pycharm": {
     "name": "#%% md\n"
    }
   }
  },
  {
   "cell_type": "code",
   "execution_count": 5,
   "outputs": [
    {
     "name": "stderr",
     "output_type": "stream",
     "text": [
      "[nltk_data] Downloading package stopwords to\n",
      "[nltk_data]     C:\\Users\\romstroller\\PYC\\millionHeadlines...\n",
      "[nltk_data]   Package stopwords is already up-to-date!\n"
     ]
    },
    {
     "data": {
      "text/plain": "[('police', 39813),\n ('new', 33729),\n ('man', 30627),\n ('says', 23731),\n ('us', 20370),\n ('court', 18180),\n ('govt', 17091),\n ('australia', 17071),\n ('council', 16955),\n ('nsw', 16516),\n ('fire', 15512),\n ('interview', 15426),\n ('australian', 13632),\n ('wa', 13464),\n ('sydney', 13065),\n ('plan', 12993),\n ('water', 12850),\n ('death', 12749),\n ('qld', 12590),\n ('crash', 12356),\n ('health', 11967),\n ('back', 11221),\n ('charged', 11193),\n ('murder', 10529),\n ('report', 10413)]"
     },
     "execution_count": 5,
     "metadata": {},
     "output_type": "execute_result"
    }
   ],
   "source": [
    "nltk.download( 'stopwords', download_dir=os.getcwd() )\n",
    "\n",
    "with open( \"corpora\\stopwords\\english\", 'r' ) as f:\n",
    "    stopwords = [ line.strip() for line in f ]\n",
    "\n",
    "# stopwords includes:\n",
    "#      'he',\n",
    "#      'him',\n",
    "#      'his',\n",
    "#      'himself',\n",
    "#      'she',\n",
    "#      \"she's\",\n",
    "#      'her',\n",
    "#      'hers',\n",
    "#      'herself',\n",
    "\n",
    "stopwordsV1 = [ w for w in stopwords if w not in [\n",
    "    \"man\", \"men\", \"woman\", \"women\" ] ]\n",
    "\n",
    "dfNonStopV1 = df[ ~df[ 'word' ].isin( stopwordsV1 ) ]\n",
    "\n",
    "# re-testing counter\n",
    "wordcount = Counter( dfNonStopV1[ 'word' ].tolist() )\n",
    "wdCountSt = wordcount.most_common()\n",
    "wdCountSt[ :25 ]"
   ],
   "metadata": {
    "collapsed": false,
    "pycharm": {
     "name": "#%%\n"
    }
   }
  },
  {
   "cell_type": "markdown",
   "source": [
    "## Analysis, Interpretation, Visualisation\n",
    "\n",
    "#### Initial observations\n",
    "\n",
    "A glaring insight for our objective is already available at this point:\n",
    "*man* is the third-most common word altogether, gendered or otherwise, in \n",
    "this cleaned dataset, while none of our female headwords are even in the \n",
    "top 25. How are the female headwords ranked?"
   ],
   "metadata": {
    "collapsed": false
   }
  },
  {
   "cell_type": "code",
   "execution_count": 6,
   "outputs": [
    {
     "name": "stdout",
     "output_type": "stream",
     "text": [
      "['pos 2: man (cnt 30627)', 'pos 36: woman (cnt 9463)', 'pos 245: women (cnt 3867)', 'pos 320: men (cnt 3160)']\n"
     ]
    }
   ],
   "source": [
    "print( [ f\"pos {i}: {x[ 0 ]} (cnt {x[ 1 ]})\" for i, x in enumerate( wdCountSt )\n",
    "    if x[ 0 ] in [ \"man\", \"men\", \"woman\", \"women\" ] ] )"
   ],
   "metadata": {
    "collapsed": false,
    "pycharm": {
     "name": "#%% \n"
    }
   }
  },
  {
   "cell_type": "markdown",
   "source": [
    "\"Woman\" doesn't get in the ranking until 37th, and over three times \n",
    "less-frequently than \"man\". Somewhat interestingly, \"women\" then appears at \n",
    "246th, some ways above \"men\" at 321th. In the simplistic limitations of our \n",
    "analysis, if a group of gendered people is of concern, it is more likely to be \n",
    "of women, while if a gendered individual is of concern, it is more likely to be \n",
    "a man. "
   ],
   "metadata": {
    "collapsed": false,
    "pycharm": {
     "name": "#%% md\n"
    }
   }
  },
  {
   "cell_type": "code",
   "execution_count": 7,
   "outputs": [],
   "source": [
    "# produce dfs grouping monthly counts for each gender headword set \n",
    "genDfs = [ ]\n",
    "for ttl, gdr in { 'men': [ \"man\", \"men\" ], 'wom': [ \"woman\", \"women\" ] }.items():\n",
    "    gDf = pd.concat( [\n",
    "        dfNonStopV1[ dfNonStopV1.word == gdr[ 0 ] ],\n",
    "        dfNonStopV1[ dfNonStopV1.word == gdr[ 1 ] ]\n",
    "        ], axis=0 ).sort_values( by=[ 'date' ], ascending=True )\n",
    "    gDf[ 'date' ] = gDf[ 'date' ].astype( str ).str[ :6 ]  # by month; disab for linegr?\n",
    "    gDf = gDf.groupby( 'date' ).size().reset_index( name=f'{ttl}Count' )\n",
    "    genDfs.append( gDf )\n",
    "\n",
    "# menDf, femDf = genDfs\n",
    "merged = pd.merge( genDfs[ 0 ], genDfs[ 1 ], on='date' ).set_index( 'date' )\n",
    "newcols = [ ''.join( col ).strip() for col in merged.columns.values ]\n",
    "merged.reset_index( inplace=True )\n",
    "df = merged.sort_values( by='date', ascending=True ).astype( int )"
   ],
   "metadata": {
    "collapsed": false,
    "pycharm": {
     "name": "#%% \n"
    }
   }
  },
  {
   "cell_type": "code",
   "execution_count": 16,
   "outputs": [
    {
     "data": {
      "text/plain": "<Figure size 1440x576 with 1 Axes>",
      "image/png": "[encoded data removed]"
     },
     "metadata": {},
     "output_type": "display_data"
    }
   ],
   "source": [
    "# make as def (df, figsize; test as line plot)\n",
    "\n",
    "def plotOverlapping( _df, _xFt, _frontYft, _rearYft, yLab, figsiz, title = \"\", ):\n",
    "    plt.style.use( 'ggplot' )\n",
    "    plt.figure( figsize=figsiz, facecolor=\"white\", )\n",
    "    \n",
    "    x = _df[ _xFt ]\n",
    "    xpos = [ i for i, _ in enumerate( x ) ]\n",
    "    \n",
    "    cols = { _frontYft: '#440154', _rearYft: '#fde725', 'overlap': \"#b38b38\" }\n",
    "    \n",
    "    plt.bar( xpos, _df[ _rearYft ], color=cols[ _rearYft ] )\n",
    "    plt.bar( xpos, _df[ _frontYft ], color=cols[ _frontYft ] )\n",
    "    plt.bar( xpos, _df[ _rearYft ], color=cols[ _rearYft ], alpha=0.6 )\n",
    "    ax1 = plt.gca()\n",
    "    ax1.set_facecolor( '#808080' )\n",
    "    \n",
    "    plt.xlabel( _xFt )\n",
    "    plt.ylabel( yLab )\n",
    "    plt.title( title )\n",
    "    plt.xticks( xpos, x )\n",
    "    plt.xticks( rotation=90 )\n",
    "    ax1.locator_params( nbins=50, axis='x' )\n",
    "    \n",
    "    labs = list( cols.keys() )\n",
    "    plt.legend( [ plt.Rectangle( (0, 0), 1, 1, color=cols[ lb ] )\n",
    "        for lb in labs ], labs )\n",
    "    \n",
    "    plt.savefig( f'ghp_full{osOps.OsKit().dtStamp()}.png', bbox_inches='tight' )\n",
    "    plt.show()\n",
    "\n",
    "\n",
    "plotOverlapping( df, 'date', 'menCount', 'womCount', \"Count\", (20, 8),\n",
    "    title=\"Monthly Headline Word Occurrence - Women vs. Men (2003 - 2019)\" )"
   ],
   "metadata": {
    "collapsed": false,
    "pycharm": {
     "name": "#%% \n"
    }
   }
  },
  {
   "cell_type": "code",
   "execution_count": 9,
   "outputs": [],
   "source": [
    "# First date where womCount equals or exceeds menCount\n",
    "firstParity = df.loc[ df[ 'womCount' ] >= df[ 'menCount' ], 'date' ].iloc[ 0 ]\n",
    "df_202101 = df[ df[ 'date' ] > firstParity - 3 ]\n"
   ],
   "metadata": {
    "collapsed": false,
    "pycharm": {
     "name": "#%%\n"
    }
   }
  },
  {
   "cell_type": "code",
   "execution_count": 17,
   "outputs": [
    {
     "data": {
      "text/plain": "<Figure size 720x360 with 1 Axes>",
      "image/png": "[encoded data removed]"
     },
     "metadata": {},
     "output_type": "display_data"
    }
   ],
   "source": [
    "plotOverlapping( df_202101, 'date', 'menCount', 'womCount', \"Count\", (10, 5),\n",
    "    title=f\"Monthly Headline Word Occurrence (from {firstParity=})\" )"
   ],
   "metadata": {
    "collapsed": false,
    "pycharm": {
     "name": "#%%\n"
    }
   }
  },
  {
   "cell_type": "code",
   "execution_count": 11,
   "outputs": [],
   "source": [
    "# breakdown parity-focus segment into daily\n",
    "# show percentages along with summaries,\n",
    "#   + sep viz for percentage of total"
   ],
   "metadata": {
    "collapsed": false,
    "pycharm": {
     "name": "#%%\n"
    }
   }
  },
  {
   "cell_type": "markdown",
   "source": [
    "#### Summary observations\n",
    "\n",
    "- Men are consistently mentioned more often than women until {}\n",
    "- For the most part, women are mentioned {} as often as men\n",
    "- {Around the beginning of 2013}, women rise to around half men-mentions \n",
    "- From the beginning of 2017, women begin to draw close to parity with men, \n",
    "ending at around {4/5} the mention rate of men.\n",
    "- That this convergence is the result of the words \"men\" and \"man\" being \n",
    "used less, rather than \"woman\" and \"women\" being used more\n",
    "- Before parity is finally reached, the closest month to parity (March 2017) \n",
    "includes International Women's Day on the 8th.\n",
    "- parity is reached and exceeded 202103 and then several times shortly after (?)\n",
    "\n",
    "**Key interpretation: the public concern for stories dominated by either gender \n",
    "in particular as drawn significantly close to parity in recent years, while \n",
    "women remain consistently less in-focus than men.**"
   ],
   "metadata": {
    "collapsed": false,
    "pycharm": {
     "name": "#%% md\n"
    }
   }
  },
  {
   "cell_type": "code",
   "execution_count": 12,
   "outputs": [],
   "source": [
    "\n"
   ],
   "metadata": {
    "collapsed": false,
    "pycharm": {
     "name": "#%% \n"
    }
   }
  },
  {
   "cell_type": "code",
   "execution_count": 12,
   "outputs": [],
   "source": [],
   "metadata": {
    "collapsed": false,
    "pycharm": {
     "name": "#%%  # END_INCLUDE"
    }
   }
  }
 ],
 "metadata": {
  "kernelspec": {
   "display_name": "Python 3",
   "language": "python",
   "name": "python3"
  },
  "language_info": {
   "codemirror_mode": {
    "name": "ipython",
    "version": 2
   },
   "file_extension": ".py",
   "mimetype": "text/x-python",
   "name": "python",
   "nbconvert_exporter": "python",
   "pygments_lexer": "ipython2",
   "version": "2.7.6"
  }
 },
 "nbformat": 4,
 "nbformat_minor": 0
}