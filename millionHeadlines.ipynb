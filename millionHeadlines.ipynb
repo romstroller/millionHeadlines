{
 "cells": [
  {
   "cell_type": "code",
   "execution_count": null,
   "metadata": {
    "collapsed": true
   },
   "outputs": [],
   "source": []
  },
  {
   "cell_type": "markdown",
   "source": [
    "## Gender in a million headlines\n",
    "\n",
    "**What can headlines from the Australian national broadcaster (the ABC) </br>\n",
    "tell us about the concerns of the Australian public over time, where those </br>\n",
    "concerns relate to male and/or female persons?**"
   ],
   "metadata": {
    "collapsed": false
   }
  },
  {
   "cell_type": "code",
   "execution_count": 1,
   "outputs": [],
   "source": [
    "# from OsTools \n",
    "# from FileTools import FileTools\n",
    "import osOps  # see github.com/romstroller/FileTools\n",
    "\n",
    "from collections import Counter\n",
    "import pandas as pd\n",
    "import nltk\n",
    "import os\n",
    "\n",
    "import matplotlib.pyplot as plt"
   ],
   "metadata": {
    "collapsed": false,
    "pycharm": {
     "name": "#%%\n"
    }
   }
  },
  {
   "cell_type": "markdown",
   "source": [
    "### Data acquisition, cleaning and feature engineering"
   ],
   "metadata": {
    "collapsed": false
   }
  },
  {
   "cell_type": "code",
   "execution_count": 2,
   "outputs": [
    {
     "name": "stdout",
     "output_type": "stream",
     "text": [
      "- [221004_114925429501] Waiting for API request\n",
      "- [221004_114926435043] Got million-headlines.zip\n",
      "- [221004_114927075595] Read DF from extracted set\n"
     ]
    }
   ],
   "source": [
    "dfOrig = osOps.OsKit().getKaggleSet( 'therohk', 'million-headlines' )"
   ],
   "metadata": {
    "collapsed": false,
    "pycharm": {
     "name": "#%%\n"
    }
   }
  },
  {
   "cell_type": "markdown",
   "source": [
    "The most flexible / granular set of data would be a list comprised of all </br>\n",
    "the words in all headlines, each paired to the date of the headline in </br>\n",
    "which they featured."
   ],
   "metadata": {
    "collapsed": false
   }
  },
  {
   "cell_type": "code",
   "execution_count": 3,
   "outputs": [
    {
     "data": {
      "text/plain": "             date          word\n0        20030219           aba\n1        20030219       decides\n2        20030219       against\n3        20030219     community\n4        20030219  broadcasting\n...           ...           ...\n8158762  20211231          here\n8158763  20211231           are\n8158764  20211231           the\n8158765  20211231           new\n8158766  20211231         rules\n\n[8158767 rows x 2 columns]",
      "text/html": "<div>\n<style scoped>\n    .dataframe tbody tr th:only-of-type {\n        vertical-align: middle;\n    }\n\n    .dataframe tbody tr th {\n        vertical-align: top;\n    }\n\n    .dataframe thead th {\n        text-align: right;\n    }\n</style>\n<table border=\"1\" class=\"dataframe\">\n  <thead>\n    <tr style=\"text-align: right;\">\n      <th></th>\n      <th>date</th>\n      <th>word</th>\n    </tr>\n  </thead>\n  <tbody>\n    <tr>\n      <th>0</th>\n      <td>20030219</td>\n      <td>aba</td>\n    </tr>\n    <tr>\n      <th>1</th>\n      <td>20030219</td>\n      <td>decides</td>\n    </tr>\n    <tr>\n      <th>2</th>\n      <td>20030219</td>\n      <td>against</td>\n    </tr>\n    <tr>\n      <th>3</th>\n      <td>20030219</td>\n      <td>community</td>\n    </tr>\n    <tr>\n      <th>4</th>\n      <td>20030219</td>\n      <td>broadcasting</td>\n    </tr>\n    <tr>\n      <th>...</th>\n      <td>...</td>\n      <td>...</td>\n    </tr>\n    <tr>\n      <th>8158762</th>\n      <td>20211231</td>\n      <td>here</td>\n    </tr>\n    <tr>\n      <th>8158763</th>\n      <td>20211231</td>\n      <td>are</td>\n    </tr>\n    <tr>\n      <th>8158764</th>\n      <td>20211231</td>\n      <td>the</td>\n    </tr>\n    <tr>\n      <th>8158765</th>\n      <td>20211231</td>\n      <td>new</td>\n    </tr>\n    <tr>\n      <th>8158766</th>\n      <td>20211231</td>\n      <td>rules</td>\n    </tr>\n  </tbody>\n</table>\n<p>8158767 rows × 2 columns</p>\n</div>"
     },
     "execution_count": 3,
     "metadata": {},
     "output_type": "execute_result"
    }
   ],
   "source": [
    "# split headlines into word-by-date\n",
    "df = pd.DataFrame( dfOrig.headline_text.str.split( ' ' ).tolist(),\n",
    "    index=dfOrig.publish_date ).stack().reset_index( inplace=False )\n",
    "df.rename( columns={ 0: 'word', 'publish_date': 'date' }, inplace=True )\n",
    "del df[ 'level_1' ]\n",
    "df"
   ],
   "metadata": {
    "collapsed": false,
    "pycharm": {
     "name": "#%%\n"
    }
   }
  },
  {
   "cell_type": "markdown",
   "source": [
    "#### Assumptions and definitions\n",
    "\n",
    "It is important to point out that there is no guaranteed metric available\n",
    "for the \"concerns\" of an audience, unless a profoundly narrowed definition\n",
    "for concern is approximated using, for example, a set of behavioural indicators.\n",
    "\n",
    "In the limitations of this dataset, we will need to equate \"concern\" with the\n",
    "prominence of particular patterns of reference. This speaks more directly to the \n",
    "\"concern\" of ABC-published journalism. \n",
    "\n",
    "To conduct the project, we make the assumption that public concern may be \n",
    "estimated by the frequency of words in a headline (\"headwords\") that appear \n",
    "together in a manner indicating uniform objects of communication. \n",
    "\n",
    "*Concern* is thus \"headword frequency\", or headword-count-at-date.\n",
    "\n",
    "##### GENDER KEYWORDS\n",
    "\n",
    "More specifically, gendered individuals as objects of communication will be \n",
    "estimated to occur, **in a set where non-gendered stopwords are omitted**,\n",
    "\n",
    "###### VARIANT ONE (drafted):\n",
    "- for males, equally with \"man\" and \"men\", and for females, likewise with \"woman\" \n",
    "and \"women\".\n",
    "\n",
    "###### VARIANT TWO (extend):\n",
    "- Include \"male\", \"males\", \"man\", \"men, \"female\", \"females\", \"woman\", \"women\"\n",
    "- \"boys\", \"boy\", \"girl\", \"girls\"\n",
    "- NORMALIZE CAPITALIZATION\n",
    "- \"for males, equally for occurances of \"he\", \"him\", \"his\", \"himself\" ( and \n",
    "common syntactical variations like \"he's\" and \"he'd\" ) and equivalently for \n",
    "females with \"she\", \"her\", \"hers\", \"herself\".\"\n",
    "\n",
    "**run word count for initial indicators**"
   ],
   "metadata": {
    "collapsed": false
   }
  },
  {
   "cell_type": "code",
   "execution_count": 4,
   "outputs": [
    {
     "data": {
      "text/plain": "[('to', 238375),\n ('in', 156175),\n ('for', 143272),\n ('of', 95940),\n ('on', 82014),\n ('the', 65048),\n ('over', 54527),\n ('police', 39813),\n ('at', 36887),\n ('with', 36331),\n ('after', 34641),\n ('new', 33729),\n ('a', 31148),\n ('man', 30627),\n ('and', 30069),\n ('as', 24333),\n ('says', 23731),\n ('from', 23440),\n ('up', 22872),\n ('by', 21375),\n ('us', 20370),\n ('out', 19117),\n ('be', 18199),\n ('court', 18180),\n ('govt', 17091)]"
     },
     "execution_count": 4,
     "metadata": {},
     "output_type": "execute_result"
    }
   ],
   "source": [
    "# testing counter\n",
    "wordcount = Counter( df[ 'word' ].tolist() )\n",
    "wordcount.most_common()[ :25 ]"
   ],
   "metadata": {
    "collapsed": false,
    "pycharm": {
     "name": "#%%\n"
    }
   }
  },
  {
   "cell_type": "code",
   "execution_count": 5,
   "outputs": [
    {
     "name": "stderr",
     "output_type": "stream",
     "text": [
      "[nltk_data] Downloading package stopwords to\n",
      "[nltk_data]     C:\\Users\\romstroller\\PYC\\millionHeadlines...\n",
      "[nltk_data]   Package stopwords is already up-to-date!\n"
     ]
    },
    {
     "data": {
      "text/plain": "[('police', 39813),\n ('new', 33729),\n ('man', 30627),\n ('says', 23731),\n ('us', 20370),\n ('court', 18180),\n ('govt', 17091),\n ('australia', 17071),\n ('council', 16955),\n ('nsw', 16516),\n ('fire', 15512),\n ('interview', 15426),\n ('australian', 13632),\n ('wa', 13464),\n ('sydney', 13065),\n ('plan', 12993),\n ('water', 12850),\n ('death', 12749),\n ('qld', 12590),\n ('crash', 12356),\n ('health', 11967),\n ('back', 11221),\n ('charged', 11193),\n ('murder', 10529),\n ('report', 10413)]"
     },
     "execution_count": 5,
     "metadata": {},
     "output_type": "execute_result"
    }
   ],
   "source": [
    "nltk.download( 'stopwords', download_dir=os.getcwd() )\n",
    "\n",
    "with open( \"corpora\\stopwords\\english\", 'r' ) as f:\n",
    "    stopwords = [ line.strip() for line in f ]\n",
    "\n",
    "# stopwords includes:\n",
    "#      'he',\n",
    "#      'him',\n",
    "#      'his',\n",
    "#      'himself',\n",
    "#      'she',\n",
    "#      \"she's\",\n",
    "#      'her',\n",
    "#      'hers',\n",
    "#      'herself',\n",
    "\n",
    "stopwordsV1 = [ w for w in stopwords if w not in [\n",
    "    \"man\", \"men\", \"woman\", \"women\" ] ]\n",
    "\n",
    "dfNonStopV1 = df[ ~df[ 'word' ].isin( stopwordsV1 ) ]\n",
    "\n",
    "# re-testing counter\n",
    "wordcount = Counter( dfNonStopV1[ 'word' ].tolist() )\n",
    "wdCountSt = wordcount.most_common()\n",
    "wdCountSt[ :25 ]"
   ],
   "metadata": {
    "collapsed": false,
    "pycharm": {
     "name": "#%%\n"
    }
   }
  },
  {
   "cell_type": "markdown",
   "source": [
    "## Analysis, Interpretation, Visualisation\n",
    "\n",
    "#### Initial observations\n",
    "\n",
    "A glaring insight for our objective is already available at this point:\n",
    "*man* is the third-most common word altogether, gendered or otherwise, in \n",
    "this cleaned dataset, while none of our female headwords are even in the \n",
    "top 25. How are the female headwords ranked?"
   ],
   "metadata": {
    "collapsed": false
   }
  },
  {
   "cell_type": "code",
   "execution_count": 6,
   "outputs": [
    {
     "name": "stdout",
     "output_type": "stream",
     "text": [
      "['pos 2: man (cnt 30627)', 'pos 36: woman (cnt 9463)', 'pos 245: women (cnt 3867)', 'pos 320: men (cnt 3160)']\n"
     ]
    }
   ],
   "source": [
    "print( [ f\"pos {i}: {x[ 0 ]} (cnt {x[ 1 ]})\" for i, x in enumerate( wdCountSt )\n",
    "    if x[ 0 ] in [ \"man\", \"men\", \"woman\", \"women\" ] ] )"
   ],
   "metadata": {
    "collapsed": false,
    "pycharm": {
     "name": "#%% \n"
    }
   }
  },
  {
   "cell_type": "markdown",
   "source": [
    "\"Woman\" doesn't get in the ranking until 37th, and over three times \n",
    "less-frequently than \"man\". Somewhat interestingly, \"women\" then appears at \n",
    "246th, some ways above \"men\" at 321th. In the simplistic limitations of our \n",
    "analysis, if a group of gendered people is of concern, it is more likely to be \n",
    "of women, while if a gendered individual is of concern, it is more likely to be \n",
    "a man. "
   ],
   "metadata": {
    "collapsed": false,
    "pycharm": {
     "name": "#%% md\n"
    }
   }
  },
  {
   "cell_type": "code",
   "execution_count": 7,
   "outputs": [],
   "source": [
    "# produce dfs grouping monthly counts for each gender headword set \n",
    "genDfs = [ ]\n",
    "for gdr in [ [ \"man\", \"men\" ], [ \"woman\", \"women\" ] ]:\n",
    "    gDf = pd.concat( [\n",
    "        dfNonStopV1[ dfNonStopV1.word == gdr[ 0 ] ],\n",
    "        dfNonStopV1[ dfNonStopV1.word == gdr[ 1 ] ]\n",
    "        ], axis=0 ).sort_values( by=[ 'date' ], ascending=True )\n",
    "    gDf[ 'date' ] = gDf[ 'date' ].astype( str ).str[ :6 ]  # by month; disab for linegr?\n",
    "    gDf = gDf.groupby( 'date' ).size().reset_index( name='count' )\n",
    "    genDfs.append( gDf )\n",
    "\n",
    "menDf, femDf = genDfs"
   ],
   "metadata": {
    "collapsed": false,
    "pycharm": {
     "name": "#%% \n"
    }
   }
  },
  {
   "cell_type": "code",
   "execution_count": 44,
   "outputs": [
    {
     "data": {
      "text/plain": "<Figure size 3600x720 with 1 Axes>",
      "image/png": "[encoded data removed]"
     },
     "metadata": {},
     "output_type": "display_data"
    }
   ],
   "source": [
    "plt.style.use( 'ggplot' )\n",
    "plt.figure( figsize=(50, 10), facecolor=\"white\", )\n",
    "\n",
    "x = menDf[ 'date' ]\n",
    "x_pos = [ i for i, _ in enumerate( x ) ]\n",
    "\n",
    "countman, countwom = menDf[ 'count' ], femDf[ 'count' ]\n",
    "plt.bar( x_pos, countwom, color='#fde725', label='Woman / Women' )\n",
    "plt.bar( x_pos, countman, color='#440154', label='Man / Men' )\n",
    "plt.bar( x_pos, countwom, color='#fde725', alpha=0.6, label='Woman / Women' )\n",
    "ax = plt.gca()\n",
    "ax.set_facecolor( '#808080' )\n",
    "\n",
    "plt.xlabel( \"YYMM\" )\n",
    "plt.ylabel( \"Count\" )\n",
    "plt.title( \"Headline Word Occurrence - Women vs. Men (2003 - 2019)\" )\n",
    "plt.xticks( x_pos, x )\n",
    "plt.xticks( rotation=90 )\n",
    "\n",
    "plt.savefig( f'ghp_full{osOps.OsKit().dtStamp()}.png', bbox_inches='tight' )\n",
    "plt.show()\n",
    "\n",
    "\n"
   ],
   "metadata": {
    "collapsed": false,
    "pycharm": {
     "name": "#%% \n"
    }
   }
  },
  {
   "cell_type": "code",
   "execution_count": 22,
   "outputs": [
    {
     "data": {
      "text/plain": "       date  count\n215  202101     44\n216  202102     67\n217  202103     78\n218  202104      8\n219  202105      6\n220  202106     10\n221  202107      9\n222  202108     11\n223  202109     10\n224  202110      9\n225  202111      7\n226  202112     14",
      "text/html": "<div>\n<style scoped>\n    .dataframe tbody tr th:only-of-type {\n        vertical-align: middle;\n    }\n\n    .dataframe tbody tr th {\n        vertical-align: top;\n    }\n\n    .dataframe thead th {\n        text-align: right;\n    }\n</style>\n<table border=\"1\" class=\"dataframe\">\n  <thead>\n    <tr style=\"text-align: right;\">\n      <th></th>\n      <th>date</th>\n      <th>count</th>\n    </tr>\n  </thead>\n  <tbody>\n    <tr>\n      <th>215</th>\n      <td>202101</td>\n      <td>44</td>\n    </tr>\n    <tr>\n      <th>216</th>\n      <td>202102</td>\n      <td>67</td>\n    </tr>\n    <tr>\n      <th>217</th>\n      <td>202103</td>\n      <td>78</td>\n    </tr>\n    <tr>\n      <th>218</th>\n      <td>202104</td>\n      <td>8</td>\n    </tr>\n    <tr>\n      <th>219</th>\n      <td>202105</td>\n      <td>6</td>\n    </tr>\n    <tr>\n      <th>220</th>\n      <td>202106</td>\n      <td>10</td>\n    </tr>\n    <tr>\n      <th>221</th>\n      <td>202107</td>\n      <td>9</td>\n    </tr>\n    <tr>\n      <th>222</th>\n      <td>202108</td>\n      <td>11</td>\n    </tr>\n    <tr>\n      <th>223</th>\n      <td>202109</td>\n      <td>10</td>\n    </tr>\n    <tr>\n      <th>224</th>\n      <td>202110</td>\n      <td>9</td>\n    </tr>\n    <tr>\n      <th>225</th>\n      <td>202111</td>\n      <td>7</td>\n    </tr>\n    <tr>\n      <th>226</th>\n      <td>202112</td>\n      <td>14</td>\n    </tr>\n  </tbody>\n</table>\n</div>"
     },
     "execution_count": 22,
     "metadata": {},
     "output_type": "execute_result"
    }
   ],
   "source": [
    "# focus on segment where parity is first met and exceeded\n",
    "\n",
    "men_202101, wom_202101 = [ _df[ _df[ 'date' ].astype( int ) >= 202101 ]\n",
    "    for _df in [ menDf, femDf ] ]\n",
    "\n",
    "wom_202101"
   ],
   "metadata": {
    "collapsed": false,
    "pycharm": {
     "name": "#%%\n"
    }
   }
  },
  {
   "cell_type": "code",
   "execution_count": 42,
   "outputs": [
    {
     "data": {
      "text/plain": "<Figure size 720x360 with 1 Axes>",
      "image/png": "[encoded data removed]"
     },
     "metadata": {},
     "output_type": "display_data"
    }
   ],
   "source": [
    "\n",
    "\n",
    "plt.style.use( 'ggplot' )\n",
    "plt.figure( figsize=(10, 5), facecolor=\"white\", )\n",
    "\n",
    "x = men_202101[ 'date' ]\n",
    "x_pos = [ i for i, _ in enumerate( x ) ]\n",
    "\n",
    "countman, countwom = men_202101[ 'count' ], wom_202101[ 'count' ]\n",
    "plt.bar( x_pos, countwom, color='#fde725', label='Woman / Women' )\n",
    "plt.bar( x_pos, countman, color='#440154', label='Man / Men' )\n",
    "plt.bar( x_pos, countwom, color='#fde725', alpha=0.6, label='Woman / Women' )\n",
    "ax = plt.gca()\n",
    "ax.set_facecolor( '#808080' )\n",
    "\n",
    "plt.xlabel( \"YYMM\" )\n",
    "plt.ylabel( \"Count\" )\n",
    "plt.title( \"Headline Word Occurrence - Women vs. Men (after 202101)\" )\n",
    "plt.xticks( x_pos, x )\n",
    "plt.xticks( rotation=90 )\n",
    "\n",
    "plt.savefig( f'ghp_segment{osOps.OsKit().dtStamp()}.png', bbox_inches='tight' )\n",
    "plt.show()\n",
    "\n",
    "\n",
    "\n",
    "\n",
    "\n",
    "\n",
    "\n",
    "\n",
    "\n"
   ],
   "metadata": {
    "collapsed": false,
    "pycharm": {
     "name": "#%%\n"
    }
   }
  },
  {
   "cell_type": "code",
   "execution_count": 45,
   "outputs": [],
   "source": [
    "# 1 / 0  ##########################################################################"
   ],
   "metadata": {
    "collapsed": false,
    "pycharm": {
     "name": "#%%\n"
    }
   }
  },
  {
   "cell_type": "markdown",
   "source": [
    "#### Summary observations\n",
    "\n",
    "- Men are always mentioned more often than women; there is not one month when \n",
    "this is otherwise.\n",
    "- Women begin in 2003 being mentioned consistently around 1/5 - 1/4 as often as \n",
    "men are\n",
    "- At around the beginning of 2013, women are being mentioned consistenly around \n",
    "half as often as men. \n",
    "- From the beginning of 2017, women begin to draw close to parity with men, \n",
    "ending at around 4/5 the mention rate of men.\n",
    "- That this convergence is largely a result of the words \"men\" and \"man\" being \n",
    "used less, rather than \"woman\" and \"women\" being used more\n",
    "- The closest month to parity, March 2017, coincides near International Women's \n",
    "Day on the 8th.\n",
    "## trend breaks 202103\n",
    "\n",
    "**Key interpretation: the public concern for stories dominated by either gender \n",
    "in particular as drawn significantly close to parity in recent years, while \n",
    "women remain consistently less in-focus than men.**"
   ],
   "metadata": {
    "collapsed": false,
    "pycharm": {
     "name": "#%% md\n"
    }
   }
  },
  {
   "cell_type": "code",
   "execution_count": null,
   "outputs": [],
   "source": [
    "\n"
   ],
   "metadata": {
    "collapsed": false,
    "pycharm": {
     "name": "#%% \n"
    }
   }
  },
  {
   "cell_type": "code",
   "execution_count": null,
   "outputs": [],
   "source": [],
   "metadata": {
    "collapsed": false,
    "pycharm": {
     "name": "#%%  # END_INCLUDE"
    }
   }
  }
 ],
 "metadata": {
  "kernelspec": {
   "display_name": "Python 3",
   "language": "python",
   "name": "python3"
  },
  "language_info": {
   "codemirror_mode": {
    "name": "ipython",
    "version": 2
   },
   "file_extension": ".py",
   "mimetype": "text/x-python",
   "name": "python",
   "nbconvert_exporter": "python",
   "pygments_lexer": "ipython2",
   "version": "2.7.6"
  }
 },
 "nbformat": 4,
 "nbformat_minor": 0
}