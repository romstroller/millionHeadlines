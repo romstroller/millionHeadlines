{
 "cells": [
  {
   "cell_type": "code",
   "execution_count": 269,
   "metadata": {
    "collapsed": true
   },
   "outputs": [],
   "source": [
    "import osOps  # see github.com/romstroller/FileTools\n",
    "import dUtils as utls\n",
    "\n",
    "import matplotlib.pyplot as plt\n",
    "from collections import Counter\n",
    "import pandas as pd\n",
    "import nltk\n",
    "import os"
   ]
  },
  {
   "cell_type": "markdown",
   "source": [
    "# Gender in a million headlines\n",
    "**[romstroller.au](http://www.romstroller.au/) | \n",
    "[github.com/romstroller](https://github.com/romstroller/)**\n",
    "\n",
    "![](http://www.romstroller.au/wp-content/uploads/2022/10/factbookGraphic.jpg)\n",
    "\n",
    "***\n",
    "### OBJECTIVE\n",
    "\n",
    "This report examines the comparative prominence of different genders in the \n",
    "main subject matter of news communications - specifically, how the balance of \n",
    "coverage between male and female individuals or groups, by frequency of words \n",
    "in a headline, has changed through time. Analysis is limited to headlines from \n",
    "the Australian national broadcaster (the ABC). The aim is to establish the \n",
    "scope and support for editorial policy changes which enable a distribution of \n",
    "gender-reference in media that best represents the gender-distribution of \n",
    "the population itself.\n",
    "\n",
    "**STAKEHOLDERS:** Media institution editorial policy-makers\n",
    "\n",
    "**OUTCOME:** Key datapoint: From the earliest headline in the dataset (February \n",
    "2003), the balance of headlines containing gendered pronouns shifted from 0.43 \n",
    "(female-to-male) before March 2021 to 0.81 until end-range (December the same year).\n",
    "This is an encouraging improvement, but falls far short of the natural \n",
    "population ratio of approximately 1-to-1.\n",
    "\n",
    "### DATA acquisition, cleaning and feature engineering"
   ],
   "metadata": {
    "collapsed": false
   }
  },
  {
   "cell_type": "code",
   "execution_count": 270,
   "outputs": [
    {
     "name": "stdout",
     "output_type": "stream",
     "text": [
      "- [221103_144407548820] Got 'million-headlines.zip'\n",
      "                        Dated: 2022_08_30_13_12_02_078157\n"
     ]
    },
    {
     "data": {
      "text/plain": " - n. headlines         1244184\n - mean mo/h'lines      180.79\n - mean h'line/words    6.56\n - oldest h'line        20030219\n - newest h'line        20211231",
      "text/html": "<style>pre { line-height: 125%; }\ntd.linenos .normal { color: inherit; background-color: transparent; padding-left: 5px; padding-right: 5px; }\nspan.linenos { color: inherit; background-color: transparent; padding-left: 5px; padding-right: 5px; }\ntd.linenos .special { color: #000000; background-color: #ffffc0; padding-left: 5px; padding-right: 5px; }\nspan.linenos.special { color: #000000; background-color: #ffffc0; padding-left: 5px; padding-right: 5px; }\n.output_html .hll { background-color: #ffffcc }\n.output_html { background: #f8f8f8; }\n.output_html .c { color: #3D7B7B; font-style: italic } /* Comment */\n.output_html .err { border: 1px solid #FF0000 } /* Error */\n.output_html .k { color: #008000; font-weight: bold } /* Keyword */\n.output_html .o { color: #666666 } /* Operator */\n.output_html .ch { color: #3D7B7B; font-style: italic } /* Comment.Hashbang */\n.output_html .cm { color: #3D7B7B; font-style: italic } /* Comment.Multiline */\n.output_html .cp { color: #9C6500 } /* Comment.Preproc */\n.output_html .cpf { color: #3D7B7B; font-style: italic } /* Comment.PreprocFile */\n.output_html .c1 { color: #3D7B7B; font-style: italic } /* Comment.Single */\n.output_html .cs { color: #3D7B7B; font-style: italic } /* Comment.Special */\n.output_html .gd { color: #A00000 } /* Generic.Deleted */\n.output_html .ge { font-style: italic } /* Generic.Emph */\n.output_html .gr { color: #E40000 } /* Generic.Error */\n.output_html .gh { color: #000080; font-weight: bold } /* Generic.Heading */\n.output_html .gi { color: #008400 } /* Generic.Inserted */\n.output_html .go { color: #717171 } /* Generic.Output */\n.output_html .gp { color: #000080; font-weight: bold } /* Generic.Prompt */\n.output_html .gs { font-weight: bold } /* Generic.Strong */\n.output_html .gu { color: #800080; font-weight: bold } /* Generic.Subheading */\n.output_html .gt { color: #0044DD } /* Generic.Traceback */\n.output_html .kc { color: #008000; font-weight: bold } /* Keyword.Constant */\n.output_html .kd { color: #008000; font-weight: bold } /* Keyword.Declaration */\n.output_html .kn { color: #008000; font-weight: bold } /* Keyword.Namespace */\n.output_html .kp { color: #008000 } /* Keyword.Pseudo */\n.output_html .kr { color: #008000; font-weight: bold } /* Keyword.Reserved */\n.output_html .kt { color: #B00040 } /* Keyword.Type */\n.output_html .m { color: #666666 } /* Literal.Number */\n.output_html .s { color: #BA2121 } /* Literal.String */\n.output_html .na { color: #687822 } /* Name.Attribute */\n.output_html .nb { color: #008000 } /* Name.Builtin */\n.output_html .nc { color: #0000FF; font-weight: bold } /* Name.Class */\n.output_html .no { color: #880000 } /* Name.Constant */\n.output_html .nd { color: #AA22FF } /* Name.Decorator */\n.output_html .ni { color: #717171; font-weight: bold } /* Name.Entity */\n.output_html .ne { color: #CB3F38; font-weight: bold } /* Name.Exception */\n.output_html .nf { color: #0000FF } /* Name.Function */\n.output_html .nl { color: #767600 } /* Name.Label */\n.output_html .nn { color: #0000FF; font-weight: bold } /* Name.Namespace */\n.output_html .nt { color: #008000; font-weight: bold } /* Name.Tag */\n.output_html .nv { color: #19177C } /* Name.Variable */\n.output_html .ow { color: #AA22FF; font-weight: bold } /* Operator.Word */\n.output_html .w { color: #bbbbbb } /* Text.Whitespace */\n.output_html .mb { color: #666666 } /* Literal.Number.Bin */\n.output_html .mf { color: #666666 } /* Literal.Number.Float */\n.output_html .mh { color: #666666 } /* Literal.Number.Hex */\n.output_html .mi { color: #666666 } /* Literal.Number.Integer */\n.output_html .mo { color: #666666 } /* Literal.Number.Oct */\n.output_html .sa { color: #BA2121 } /* Literal.String.Affix */\n.output_html .sb { color: #BA2121 } /* Literal.String.Backtick */\n.output_html .sc { color: #BA2121 } /* Literal.String.Char */\n.output_html .dl { color: #BA2121 } /* Literal.String.Delimiter */\n.output_html .sd { color: #BA2121; font-style: italic } /* Literal.String.Doc */\n.output_html .s2 { color: #BA2121 } /* Literal.String.Double */\n.output_html .se { color: #AA5D1F; font-weight: bold } /* Literal.String.Escape */\n.output_html .sh { color: #BA2121 } /* Literal.String.Heredoc */\n.output_html .si { color: #A45A77; font-weight: bold } /* Literal.String.Interpol */\n.output_html .sx { color: #008000 } /* Literal.String.Other */\n.output_html .sr { color: #A45A77 } /* Literal.String.Regex */\n.output_html .s1 { color: #BA2121 } /* Literal.String.Single */\n.output_html .ss { color: #19177C } /* Literal.String.Symbol */\n.output_html .bp { color: #008000 } /* Name.Builtin.Pseudo */\n.output_html .fm { color: #0000FF } /* Name.Function.Magic */\n.output_html .vc { color: #19177C } /* Name.Variable.Class */\n.output_html .vg { color: #19177C } /* Name.Variable.Global */\n.output_html .vi { color: #19177C } /* Name.Variable.Instance */\n.output_html .vm { color: #19177C } /* Name.Variable.Magic */\n.output_html .il { color: #666666 } /* Literal.Number.Integer.Long */</style><div class=\"highlight\"><pre><span></span> - n. headlines         1244184\n - mean mo/h&#39;lines      180.79\n - mean h&#39;line/words    6.56\n - oldest h&#39;line        20030219\n - newest h&#39;line        20211231\n</pre></div>\n",
      "text/latex": "\\begin{Verbatim}[commandchars=\\\\\\{\\}]\n \\PYZhy{} n. headlines         1244184\n \\PYZhy{} mean mo/h\\PYZsq{}lines      180.79\n \\PYZhy{} mean h\\PYZsq{}line/words    6.56\n \\PYZhy{} oldest h\\PYZsq{}line        20030219\n \\PYZhy{} newest h\\PYZsq{}line        20211231\n\\end{Verbatim}\n"
     },
     "metadata": {},
     "output_type": "display_data"
    }
   ],
   "source": [
    "dfOR = osOps.OsKit().getKaggleSet( 'therohk', 'million-headlines' )\n",
    "\n",
    "utls.write( [\n",
    "    (f\"n. headlines\", f\"{dfOR.shape[ 0 ]}\"),\n",
    "    (f\"mean mo/h'lines\",\n",
    "    f\"{dfOR.groupby( 'publish_date' ).count().mean()[ 0 ]:.2f}\"),\n",
    "    (f\"mean h'line/words\",\n",
    "    f\"{dfOR[ 'headline_text' ].str.split().str.len().mean():.2f}\"),\n",
    "    (f\"oldest h'line\",\n",
    "    f\"{(dfDat := sorted( dfOR.publish_date.to_list() ))[ 0 ]}\"),\n",
    "    (f\"newest h'line\", f\"{dfDat[ -1 ]}\"), ], bullets=True )"
   ],
   "metadata": {
    "collapsed": false,
    "pycharm": {
     "name": "#%%\n"
    }
   }
  },
  {
   "cell_type": "markdown",
   "source": [
    "The dataset comprises around 1.25 million headlines dated from February 2003 to \n",
    "December 2021, averaging 180 per month of around 6.5 words each.\n",
    "\n",
    "In order to analyse gender-reference frequency, or the number of times \n",
    "particular gender pronouns are used in a given day, each headline is to be \n",
    "split on each word, retaining the date indexation for each word, and keeping a \n",
    "reference to the originating headline index."
   ],
   "metadata": {
    "collapsed": false
   }
  },
  {
   "cell_type": "code",
   "execution_count": 271,
   "outputs": [
    {
     "data": {
      "text/plain": "            hNum      date          word\n0              0  20030219           aba\n1              0  20030219       decides\n2              0  20030219       against\n3              0  20030219     community\n4              0  20030219  broadcasting\n...          ...       ...           ...\n8158762  1244183  20211231          here\n8158763  1244183  20211231           are\n8158764  1244183  20211231           the\n8158765  1244183  20211231           new\n8158766  1244183  20211231         rules\n\n[8158767 rows x 3 columns]",
      "text/html": "<div>\n<style scoped>\n    .dataframe tbody tr th:only-of-type {\n        vertical-align: middle;\n    }\n\n    .dataframe tbody tr th {\n        vertical-align: top;\n    }\n\n    .dataframe thead th {\n        text-align: right;\n    }\n</style>\n<table border=\"1\" class=\"dataframe\">\n  <thead>\n    <tr style=\"text-align: right;\">\n      <th></th>\n      <th>hNum</th>\n      <th>date</th>\n      <th>word</th>\n    </tr>\n  </thead>\n  <tbody>\n    <tr>\n      <th>0</th>\n      <td>0</td>\n      <td>20030219</td>\n      <td>aba</td>\n    </tr>\n    <tr>\n      <th>1</th>\n      <td>0</td>\n      <td>20030219</td>\n      <td>decides</td>\n    </tr>\n    <tr>\n      <th>2</th>\n      <td>0</td>\n      <td>20030219</td>\n      <td>against</td>\n    </tr>\n    <tr>\n      <th>3</th>\n      <td>0</td>\n      <td>20030219</td>\n      <td>community</td>\n    </tr>\n    <tr>\n      <th>4</th>\n      <td>0</td>\n      <td>20030219</td>\n      <td>broadcasting</td>\n    </tr>\n    <tr>\n      <th>...</th>\n      <td>...</td>\n      <td>...</td>\n      <td>...</td>\n    </tr>\n    <tr>\n      <th>8158762</th>\n      <td>1244183</td>\n      <td>20211231</td>\n      <td>here</td>\n    </tr>\n    <tr>\n      <th>8158763</th>\n      <td>1244183</td>\n      <td>20211231</td>\n      <td>are</td>\n    </tr>\n    <tr>\n      <th>8158764</th>\n      <td>1244183</td>\n      <td>20211231</td>\n      <td>the</td>\n    </tr>\n    <tr>\n      <th>8158765</th>\n      <td>1244183</td>\n      <td>20211231</td>\n      <td>new</td>\n    </tr>\n    <tr>\n      <th>8158766</th>\n      <td>1244183</td>\n      <td>20211231</td>\n      <td>rules</td>\n    </tr>\n  </tbody>\n</table>\n<p>8158767 rows × 3 columns</p>\n</div>"
     },
     "execution_count": 271,
     "metadata": {},
     "output_type": "execute_result"
    }
   ],
   "source": [
    "df = dfOR.assign( headline_text=dfOR[ 'headline_text' ].str.split( ' ' )\n",
    "    ).explode( 'headline_text' ).reset_index()\n",
    "\n",
    "df.columns = [ \"hNum\", \"date\", \"word\" ]\n",
    "\n",
    "df"
   ],
   "metadata": {
    "collapsed": false,
    "pycharm": {
     "name": "#%%\n"
    }
   }
  },
  {
   "cell_type": "markdown",
   "source": [
    "#### Dimensionality and noise reduction\n",
    "The word frequency data contains a lot of noise from words which perform only a \n",
    "syntactical function - \"stopwords\", usually nonsubstantive prepositions and \n",
    "conjunctions like \"a\", \"and\", \"the\", which appear among maxima in frequency \n",
    "counts because they are required for common construction. For this analysis, \n",
    "where a stopword is not itself a gender pronoun, it can be excluded from the \n",
    "dataset as a processing convenience.\n",
    "\n",
    "#### Gender keywords\n",
    "Gendered individuals as objects of communication can be estimated to occur, in \n",
    "a set where non-gendered stopwords are omitted: for males, equally with \"man\" \n",
    "and \"men\", and for females, likewise with \"woman\" and \"women\".\n",
    "\n",
    "#### Get count omitting stopwords"
   ],
   "metadata": {
    "collapsed": false
   }
  },
  {
   "cell_type": "code",
   "execution_count": 272,
   "outputs": [
    {
     "name": "stdout",
     "output_type": "stream",
     "text": [
      "Top 15 most common:\n",
      "    -  ('police', 39813)\n",
      "    -  ('new', 33729)\n",
      "    -  ('man', 30627)\n",
      "    -  ('says', 23731)\n",
      "    -  ('us', 20370)\n",
      "    -  ('court', 18180)\n",
      "    -  ('govt', 17091)\n",
      "    -  ('australia', 17071)\n",
      "    -  ('council', 16955)\n",
      "    -  ('nsw', 16516)\n",
      "    -  ('fire', 15512)\n",
      "    -  ('interview', 15426)\n",
      "    -  ('australian', 13632)\n",
      "    -  ('wa', 13464)\n",
      "    -  ('sydney', 13065)\n"
     ]
    }
   ],
   "source": [
    "def returnCounts( _df ):\n",
    "    _dfFilt = _df[ ~_df[ 'word' ].isin( stopwordsV1 ) ]\n",
    "    _counted = Counter( _dfFilt[ 'word' ].tolist() )\n",
    "    return _counted.most_common()\n",
    "\n",
    "\n",
    "# get and omit non-gen stopwords, run counter\n",
    "nltk.download( 'stopwords', download_dir=os.getcwd(), quiet=True )\n",
    "with open( \"corpora\\stopwords\\english\", 'r' ) as f:\n",
    "    stopwords = [ line.strip() for line in f ]\n",
    "\n",
    "wo = [ \"woman\", \"women\", \"female\", \"females\", \"she\", \"her\", \"hers\", \"herself\" ]\n",
    "ma = [ \"man\", \"men\", \"male\", \"males\", \"he\", \"him\", \"his\", \"himself\" ]\n",
    "# Matching is seg of headline delimited by whitespace matches exact pronoun; \n",
    "#   EXTEND: Regex to include eg. plurals and punc-delimited to capture fuller\n",
    "#   syntactical variations but not false-match ( eg. man in \"human\" )\n",
    "\n",
    "stopwordsV1 = [ x for x in stopwords if x not in wo + ma ]\n",
    "dfNS = df[ ~df[ 'word' ].isin( stopwordsV1 ) ]\n",
    "\n",
    "print( f\"Top 15 most common:\" )\n",
    "for c in (mostCom := returnCounts( df[ ~df[ 'word' ].isin( stopwordsV1 ) ] ))[ :15 ]:\n",
    "    print( \"    - \", c )"
   ],
   "metadata": {
    "collapsed": false,
    "pycharm": {
     "name": "#%%\n"
    }
   }
  },
  {
   "cell_type": "markdown",
   "source": [
    "***\n",
    "\n",
    "###  ANALYSIS, Interpretation and Visualisation\n",
    "\n",
    "#### Initial observations\n",
    "\n",
    "A key, distinct insight for our objective is already available at this point:\n",
    "*man* is the third-most common word altogether, gendered or otherwise, in \n",
    "this cleaned dataset, while none of our female pronouns are even in the \n",
    "top 25. How are the female pronouns ranked?"
   ],
   "metadata": {
    "collapsed": false
   }
  },
  {
   "cell_type": "code",
   "execution_count": 273,
   "outputs": [
    {
     "data": {
      "text/plain": " - rank 3 (count: 30627 )      man\n - rank 37 (count: 9463 )      woman\n - rank 246 (count: 3867 )     women\n - rank 264 (count: 3707 )     his\n - rank 322 (count: 3160 )     men\n - rank 595 (count: 2099 )     he\n - rank 858 (count: 1537 )     her\n - rank 1186 (count: 1158 )    female\n - rank 2385 (count: 551 )     she\n - rank 2452 (count: 534 )     himself\n - rank 2567 (count: 505 )     him\n - rank 3699 (count: 317 )     male\n - rank 7942 (count: 103 )     herself\n - rank 17280 (count: 27 )     males\n - rank 17694 (count: 26 )     females\n - rank 111868 (count: 1 )     hers",
      "text/html": "<style>pre { line-height: 125%; }\ntd.linenos .normal { color: inherit; background-color: transparent; padding-left: 5px; padding-right: 5px; }\nspan.linenos { color: inherit; background-color: transparent; padding-left: 5px; padding-right: 5px; }\ntd.linenos .special { color: #000000; background-color: #ffffc0; padding-left: 5px; padding-right: 5px; }\nspan.linenos.special { color: #000000; background-color: #ffffc0; padding-left: 5px; padding-right: 5px; }\n.output_html .hll { background-color: #ffffcc }\n.output_html { background: #f8f8f8; }\n.output_html .c { color: #3D7B7B; font-style: italic } /* Comment */\n.output_html .err { border: 1px solid #FF0000 } /* Error */\n.output_html .k { color: #008000; font-weight: bold } /* Keyword */\n.output_html .o { color: #666666 } /* Operator */\n.output_html .ch { color: #3D7B7B; font-style: italic } /* Comment.Hashbang */\n.output_html .cm { color: #3D7B7B; font-style: italic } /* Comment.Multiline */\n.output_html .cp { color: #9C6500 } /* Comment.Preproc */\n.output_html .cpf { color: #3D7B7B; font-style: italic } /* Comment.PreprocFile */\n.output_html .c1 { color: #3D7B7B; font-style: italic } /* Comment.Single */\n.output_html .cs { color: #3D7B7B; font-style: italic } /* Comment.Special */\n.output_html .gd { color: #A00000 } /* Generic.Deleted */\n.output_html .ge { font-style: italic } /* Generic.Emph */\n.output_html .gr { color: #E40000 } /* Generic.Error */\n.output_html .gh { color: #000080; font-weight: bold } /* Generic.Heading */\n.output_html .gi { color: #008400 } /* Generic.Inserted */\n.output_html .go { color: #717171 } /* Generic.Output */\n.output_html .gp { color: #000080; font-weight: bold } /* Generic.Prompt */\n.output_html .gs { font-weight: bold } /* Generic.Strong */\n.output_html .gu { color: #800080; font-weight: bold } /* Generic.Subheading */\n.output_html .gt { color: #0044DD } /* Generic.Traceback */\n.output_html .kc { color: #008000; font-weight: bold } /* Keyword.Constant */\n.output_html .kd { color: #008000; font-weight: bold } /* Keyword.Declaration */\n.output_html .kn { color: #008000; font-weight: bold } /* Keyword.Namespace */\n.output_html .kp { color: #008000 } /* Keyword.Pseudo */\n.output_html .kr { color: #008000; font-weight: bold } /* Keyword.Reserved */\n.output_html .kt { color: #B00040 } /* Keyword.Type */\n.output_html .m { color: #666666 } /* Literal.Number */\n.output_html .s { color: #BA2121 } /* Literal.String */\n.output_html .na { color: #687822 } /* Name.Attribute */\n.output_html .nb { color: #008000 } /* Name.Builtin */\n.output_html .nc { color: #0000FF; font-weight: bold } /* Name.Class */\n.output_html .no { color: #880000 } /* Name.Constant */\n.output_html .nd { color: #AA22FF } /* Name.Decorator */\n.output_html .ni { color: #717171; font-weight: bold } /* Name.Entity */\n.output_html .ne { color: #CB3F38; font-weight: bold } /* Name.Exception */\n.output_html .nf { color: #0000FF } /* Name.Function */\n.output_html .nl { color: #767600 } /* Name.Label */\n.output_html .nn { color: #0000FF; font-weight: bold } /* Name.Namespace */\n.output_html .nt { color: #008000; font-weight: bold } /* Name.Tag */\n.output_html .nv { color: #19177C } /* Name.Variable */\n.output_html .ow { color: #AA22FF; font-weight: bold } /* Operator.Word */\n.output_html .w { color: #bbbbbb } /* Text.Whitespace */\n.output_html .mb { color: #666666 } /* Literal.Number.Bin */\n.output_html .mf { color: #666666 } /* Literal.Number.Float */\n.output_html .mh { color: #666666 } /* Literal.Number.Hex */\n.output_html .mi { color: #666666 } /* Literal.Number.Integer */\n.output_html .mo { color: #666666 } /* Literal.Number.Oct */\n.output_html .sa { color: #BA2121 } /* Literal.String.Affix */\n.output_html .sb { color: #BA2121 } /* Literal.String.Backtick */\n.output_html .sc { color: #BA2121 } /* Literal.String.Char */\n.output_html .dl { color: #BA2121 } /* Literal.String.Delimiter */\n.output_html .sd { color: #BA2121; font-style: italic } /* Literal.String.Doc */\n.output_html .s2 { color: #BA2121 } /* Literal.String.Double */\n.output_html .se { color: #AA5D1F; font-weight: bold } /* Literal.String.Escape */\n.output_html .sh { color: #BA2121 } /* Literal.String.Heredoc */\n.output_html .si { color: #A45A77; font-weight: bold } /* Literal.String.Interpol */\n.output_html .sx { color: #008000 } /* Literal.String.Other */\n.output_html .sr { color: #A45A77 } /* Literal.String.Regex */\n.output_html .s1 { color: #BA2121 } /* Literal.String.Single */\n.output_html .ss { color: #19177C } /* Literal.String.Symbol */\n.output_html .bp { color: #008000 } /* Name.Builtin.Pseudo */\n.output_html .fm { color: #0000FF } /* Name.Function.Magic */\n.output_html .vc { color: #19177C } /* Name.Variable.Class */\n.output_html .vg { color: #19177C } /* Name.Variable.Global */\n.output_html .vi { color: #19177C } /* Name.Variable.Instance */\n.output_html .vm { color: #19177C } /* Name.Variable.Magic */\n.output_html .il { color: #666666 } /* Literal.Number.Integer.Long */</style><div class=\"highlight\"><pre><span></span> - rank 3 (count: 30627 )      man\n - rank 37 (count: 9463 )      woman\n - rank 246 (count: 3867 )     women\n - rank 264 (count: 3707 )     his\n - rank 322 (count: 3160 )     men\n - rank 595 (count: 2099 )     he\n - rank 858 (count: 1537 )     her\n - rank 1186 (count: 1158 )    female\n - rank 2385 (count: 551 )     she\n - rank 2452 (count: 534 )     himself\n - rank 2567 (count: 505 )     him\n - rank 3699 (count: 317 )     male\n - rank 7942 (count: 103 )     herself\n - rank 17280 (count: 27 )     males\n - rank 17694 (count: 26 )     females\n - rank 111868 (count: 1 )     hers\n</pre></div>\n",
      "text/latex": "\\begin{Verbatim}[commandchars=\\\\\\{\\}]\n \\PYZhy{} rank 3 (count: 30627 )      man\n \\PYZhy{} rank 37 (count: 9463 )      woman\n \\PYZhy{} rank 246 (count: 3867 )     women\n \\PYZhy{} rank 264 (count: 3707 )     his\n \\PYZhy{} rank 322 (count: 3160 )     men\n \\PYZhy{} rank 595 (count: 2099 )     he\n \\PYZhy{} rank 858 (count: 1537 )     her\n \\PYZhy{} rank 1186 (count: 1158 )    female\n \\PYZhy{} rank 2385 (count: 551 )     she\n \\PYZhy{} rank 2452 (count: 534 )     himself\n \\PYZhy{} rank 2567 (count: 505 )     him\n \\PYZhy{} rank 3699 (count: 317 )     male\n \\PYZhy{} rank 7942 (count: 103 )     herself\n \\PYZhy{} rank 17280 (count: 27 )     males\n \\PYZhy{} rank 17694 (count: 26 )     females\n \\PYZhy{} rank 111868 (count: 1 )     hers\n\\end{Verbatim}\n"
     },
     "metadata": {},
     "output_type": "display_data"
    }
   ],
   "source": [
    "utls.write( [\n",
    "    (f\"rank {i + 1} (count: {x[ 1 ]} )\", f\"{x[ 0 ]}\")\n",
    "    for i, x in enumerate( mostCom ) if x[ 0 ] in wo + ma ], bullets=True )"
   ],
   "metadata": {
    "collapsed": false,
    "pycharm": {
     "name": "#%%\n"
    }
   }
  },
  {
   "cell_type": "markdown",
   "source": [
    "\"Woman\" doesn't get in the ranking until 37th, over three times less-frequently \n",
    "than \"man\". Interestingly, \"women\" then appears at 246th, slightly above \"men\" \n",
    "at 322nd (with a count-difference of ~700, compared with \"man\" appearing ~20,000 \n",
    "more times than \"woman\"). \n",
    "\n",
    "In the simplistic limitations of our analysis, if a group of gendered people is \n",
    "of concern, it is slightly more likely to be of women, while if a gendered \n",
    "individual is of concern, it is more likely to be a man.\n",
    "\n",
    "The disparity between possessive pronouns is significant - \"hers\" is used in \n",
    "only one headline in the entire collection, while \"his\" appears 3707 times.\n",
    "\n",
    "To clearly present the shifting balance of gendered pronouns through time, \n",
    "the count of male versus female pronouns from the beginning to end date of the \n",
    "dataset is collected by month and plotted in overlay.\n"
   ],
   "metadata": {
    "collapsed": false,
    "pycharm": {
     "name": "#%% md\n"
    }
   }
  },
  {
   "cell_type": "code",
   "execution_count": 274,
   "outputs": [
    {
     "data": {
      "text/plain": "         mo  Ntot  Nwom  Nman\n0    200302  2180    19    80\n1    200303  6410    54   180\n2    200304  6101    44   163\n3    200305  6399    57   191\n4    200306  6346    55   184\n..      ...   ...   ...   ...\n222  202108  1070    16    24\n223  202109  1051    11    16\n224  202110   988    20    26\n225  202111   968    15    40\n226  202112  1094    27    17\n\n[227 rows x 4 columns]",
      "text/html": "<div>\n<style scoped>\n    .dataframe tbody tr th:only-of-type {\n        vertical-align: middle;\n    }\n\n    .dataframe tbody tr th {\n        vertical-align: top;\n    }\n\n    .dataframe thead th {\n        text-align: right;\n    }\n</style>\n<table border=\"1\" class=\"dataframe\">\n  <thead>\n    <tr style=\"text-align: right;\">\n      <th></th>\n      <th>mo</th>\n      <th>Ntot</th>\n      <th>Nwom</th>\n      <th>Nman</th>\n    </tr>\n  </thead>\n  <tbody>\n    <tr>\n      <th>0</th>\n      <td>200302</td>\n      <td>2180</td>\n      <td>19</td>\n      <td>80</td>\n    </tr>\n    <tr>\n      <th>1</th>\n      <td>200303</td>\n      <td>6410</td>\n      <td>54</td>\n      <td>180</td>\n    </tr>\n    <tr>\n      <th>2</th>\n      <td>200304</td>\n      <td>6101</td>\n      <td>44</td>\n      <td>163</td>\n    </tr>\n    <tr>\n      <th>3</th>\n      <td>200305</td>\n      <td>6399</td>\n      <td>57</td>\n      <td>191</td>\n    </tr>\n    <tr>\n      <th>4</th>\n      <td>200306</td>\n      <td>6346</td>\n      <td>55</td>\n      <td>184</td>\n    </tr>\n    <tr>\n      <th>...</th>\n      <td>...</td>\n      <td>...</td>\n      <td>...</td>\n      <td>...</td>\n    </tr>\n    <tr>\n      <th>222</th>\n      <td>202108</td>\n      <td>1070</td>\n      <td>16</td>\n      <td>24</td>\n    </tr>\n    <tr>\n      <th>223</th>\n      <td>202109</td>\n      <td>1051</td>\n      <td>11</td>\n      <td>16</td>\n    </tr>\n    <tr>\n      <th>224</th>\n      <td>202110</td>\n      <td>988</td>\n      <td>20</td>\n      <td>26</td>\n    </tr>\n    <tr>\n      <th>225</th>\n      <td>202111</td>\n      <td>968</td>\n      <td>15</td>\n      <td>40</td>\n    </tr>\n    <tr>\n      <th>226</th>\n      <td>202112</td>\n      <td>1094</td>\n      <td>27</td>\n      <td>17</td>\n    </tr>\n  </tbody>\n</table>\n<p>227 rows × 4 columns</p>\n</div>"
     },
     "execution_count": 274,
     "metadata": {},
     "output_type": "execute_result"
    }
   ],
   "source": [
    "def DFheadCount( _df, filt = None ):\n",
    "    _df = _df.copy() if not filt else _df[ _df[ \"word\" ].isin( filt ) ].copy()\n",
    "    _df[ \"MO\" ] = _df[ \"date\" ].floordiv( 100 )\n",
    "    _df = (_df.drop( [ \"word\", \"date\" ], axis=1 )\n",
    "           .groupby( 'MO' )[ 'hNum' ].nunique().reset_index())\n",
    "    _df.columns = [ co for co in _df.columns[ :-1 ] ] + [ 'count' ]\n",
    "    return _df\n",
    "\n",
    "\n",
    "dfAll, dfW, dfM = [ DFheadCount( dfNS, fil ) for fil in [ None, wo, ma ] ]\n",
    "dfMO = dfAll.merge( dfW, on='MO' ).merge( dfM, on='MO' )\n",
    "dfMO.columns = [ \"mo\", \"Ntot\", \"Nwom\", \"Nman\" ]\n",
    "\n",
    "dfMO"
   ],
   "metadata": {
    "collapsed": false,
    "pycharm": {
     "name": "#%% \n"
    }
   }
  },
  {
   "cell_type": "code",
   "execution_count": 275,
   "outputs": [
    {
     "data": {
      "text/plain": "<Figure size 864x432 with 1 Axes>",
      "image/png": "[encoded data removed]"
     },
     "metadata": {},
     "output_type": "display_data"
    }
   ],
   "source": [
    "def plotOverlapping( _df, _xFt, _y1ft, _y2ft, yLab, figsiz, title = \"\" ):\n",
    "    plt.figure( figsize=figsiz, facecolor=\"white\", )\n",
    "    \n",
    "    x = _df[ _xFt ]\n",
    "    xpos = [ i for i, _ in enumerate( x ) ]\n",
    "    \n",
    "    cols = { _y1ft: '#440154', _y2ft: '#fde725', 'overlap': \"#b38b38\" }\n",
    "    \n",
    "    plt.bar( xpos, _df[ _y2ft ], color=cols[ _y2ft ], )\n",
    "    plt.bar( xpos, _df[ _y1ft ], color=cols[ _y1ft ], )\n",
    "    plt.bar( xpos, _df[ _y2ft ], color=cols[ _y2ft ], alpha=0.6 )\n",
    "    ax1 = plt.gca()\n",
    "    ax1.set_facecolor( '#999999' )\n",
    "    \n",
    "    plt.xlabel( _xFt )\n",
    "    plt.ylabel( yLab )\n",
    "    plt.title( title )\n",
    "    plt.xticks( xpos, x )\n",
    "    plt.xticks( rotation=90 )\n",
    "    ax1.locator_params( nbins=50, axis='x' )\n",
    "    \n",
    "    labs = list( cols.keys() )\n",
    "    plt.legend( [ plt.Rectangle( (0, 0), 1, 1, color=cols[ lb ] )\n",
    "        for lb in labs ], labs )\n",
    "    \n",
    "    plt.savefig(\n",
    "        f'ghp_full{osOps.OsKit().dtStamp()}.png', bbox_inches='tight' )\n",
    "    plt.show()\n",
    "\n",
    "\n",
    "plotOverlapping( dfMO, 'mo', 'Nman', 'Nwom', \"Count\", (12, 6),\n",
    "    title=\"Monthly Headline Word Occurrence - Women vs. Men (2003 - 2019)\" )"
   ],
   "metadata": {
    "collapsed": false,
    "pycharm": {
     "name": "#%% \n"
    }
   }
  },
  {
   "cell_type": "code",
   "execution_count": 276,
   "outputs": [
    {
     "data": {
      "text/plain": " - First Parity    202103\n - nWom % nMal     0.45\n - W%M pre-1611    0.35\n - W%M pos-1611    0.70",
      "text/html": "<style>pre { line-height: 125%; }\ntd.linenos .normal { color: inherit; background-color: transparent; padding-left: 5px; padding-right: 5px; }\nspan.linenos { color: inherit; background-color: transparent; padding-left: 5px; padding-right: 5px; }\ntd.linenos .special { color: #000000; background-color: #ffffc0; padding-left: 5px; padding-right: 5px; }\nspan.linenos.special { color: #000000; background-color: #ffffc0; padding-left: 5px; padding-right: 5px; }\n.output_html .hll { background-color: #ffffcc }\n.output_html { background: #f8f8f8; }\n.output_html .c { color: #3D7B7B; font-style: italic } /* Comment */\n.output_html .err { border: 1px solid #FF0000 } /* Error */\n.output_html .k { color: #008000; font-weight: bold } /* Keyword */\n.output_html .o { color: #666666 } /* Operator */\n.output_html .ch { color: #3D7B7B; font-style: italic } /* Comment.Hashbang */\n.output_html .cm { color: #3D7B7B; font-style: italic } /* Comment.Multiline */\n.output_html .cp { color: #9C6500 } /* Comment.Preproc */\n.output_html .cpf { color: #3D7B7B; font-style: italic } /* Comment.PreprocFile */\n.output_html .c1 { color: #3D7B7B; font-style: italic } /* Comment.Single */\n.output_html .cs { color: #3D7B7B; font-style: italic } /* Comment.Special */\n.output_html .gd { color: #A00000 } /* Generic.Deleted */\n.output_html .ge { font-style: italic } /* Generic.Emph */\n.output_html .gr { color: #E40000 } /* Generic.Error */\n.output_html .gh { color: #000080; font-weight: bold } /* Generic.Heading */\n.output_html .gi { color: #008400 } /* Generic.Inserted */\n.output_html .go { color: #717171 } /* Generic.Output */\n.output_html .gp { color: #000080; font-weight: bold } /* Generic.Prompt */\n.output_html .gs { font-weight: bold } /* Generic.Strong */\n.output_html .gu { color: #800080; font-weight: bold } /* Generic.Subheading */\n.output_html .gt { color: #0044DD } /* Generic.Traceback */\n.output_html .kc { color: #008000; font-weight: bold } /* Keyword.Constant */\n.output_html .kd { color: #008000; font-weight: bold } /* Keyword.Declaration */\n.output_html .kn { color: #008000; font-weight: bold } /* Keyword.Namespace */\n.output_html .kp { color: #008000 } /* Keyword.Pseudo */\n.output_html .kr { color: #008000; font-weight: bold } /* Keyword.Reserved */\n.output_html .kt { color: #B00040 } /* Keyword.Type */\n.output_html .m { color: #666666 } /* Literal.Number */\n.output_html .s { color: #BA2121 } /* Literal.String */\n.output_html .na { color: #687822 } /* Name.Attribute */\n.output_html .nb { color: #008000 } /* Name.Builtin */\n.output_html .nc { color: #0000FF; font-weight: bold } /* Name.Class */\n.output_html .no { color: #880000 } /* Name.Constant */\n.output_html .nd { color: #AA22FF } /* Name.Decorator */\n.output_html .ni { color: #717171; font-weight: bold } /* Name.Entity */\n.output_html .ne { color: #CB3F38; font-weight: bold } /* Name.Exception */\n.output_html .nf { color: #0000FF } /* Name.Function */\n.output_html .nl { color: #767600 } /* Name.Label */\n.output_html .nn { color: #0000FF; font-weight: bold } /* Name.Namespace */\n.output_html .nt { color: #008000; font-weight: bold } /* Name.Tag */\n.output_html .nv { color: #19177C } /* Name.Variable */\n.output_html .ow { color: #AA22FF; font-weight: bold } /* Operator.Word */\n.output_html .w { color: #bbbbbb } /* Text.Whitespace */\n.output_html .mb { color: #666666 } /* Literal.Number.Bin */\n.output_html .mf { color: #666666 } /* Literal.Number.Float */\n.output_html .mh { color: #666666 } /* Literal.Number.Hex */\n.output_html .mi { color: #666666 } /* Literal.Number.Integer */\n.output_html .mo { color: #666666 } /* Literal.Number.Oct */\n.output_html .sa { color: #BA2121 } /* Literal.String.Affix */\n.output_html .sb { color: #BA2121 } /* Literal.String.Backtick */\n.output_html .sc { color: #BA2121 } /* Literal.String.Char */\n.output_html .dl { color: #BA2121 } /* Literal.String.Delimiter */\n.output_html .sd { color: #BA2121; font-style: italic } /* Literal.String.Doc */\n.output_html .s2 { color: #BA2121 } /* Literal.String.Double */\n.output_html .se { color: #AA5D1F; font-weight: bold } /* Literal.String.Escape */\n.output_html .sh { color: #BA2121 } /* Literal.String.Heredoc */\n.output_html .si { color: #A45A77; font-weight: bold } /* Literal.String.Interpol */\n.output_html .sx { color: #008000 } /* Literal.String.Other */\n.output_html .sr { color: #A45A77 } /* Literal.String.Regex */\n.output_html .s1 { color: #BA2121 } /* Literal.String.Single */\n.output_html .ss { color: #19177C } /* Literal.String.Symbol */\n.output_html .bp { color: #008000 } /* Name.Builtin.Pseudo */\n.output_html .fm { color: #0000FF } /* Name.Function.Magic */\n.output_html .vc { color: #19177C } /* Name.Variable.Class */\n.output_html .vg { color: #19177C } /* Name.Variable.Global */\n.output_html .vi { color: #19177C } /* Name.Variable.Instance */\n.output_html .vm { color: #19177C } /* Name.Variable.Magic */\n.output_html .il { color: #666666 } /* Literal.Number.Integer.Long */</style><div class=\"highlight\"><pre><span></span> - First Parity    202103\n - nWom % nMal     0.45\n - W%M pre-1611    0.35\n - W%M pos-1611    0.70\n</pre></div>\n",
      "text/latex": "\\begin{Verbatim}[commandchars=\\\\\\{\\}]\n \\PYZhy{} First Parity    202103\n \\PYZhy{} nWom \\PYZpc{} nMal     0.45\n \\PYZhy{} W\\PYZpc{}M pre\\PYZhy{}1611    0.35\n \\PYZhy{} W\\PYZpc{}M pos\\PYZhy{}1611    0.70\n\\end{Verbatim}\n"
     },
     "metadata": {},
     "output_type": "display_data"
    }
   ],
   "source": [
    "firstParity = dfMO.loc[ dfMO[ 'Nwom' ] >= dfMO[ 'Nman' ], 'mo' ].iloc[ 0 ]\n",
    "\n",
    "# Focus on segment where womCount equals or exceeds menCount\n",
    "dfParity = dfMO[ dfMO[ 'mo' ] > firstParity - 3 ]\n",
    "\n",
    "# average wom % men pre and post 201611, and all-time\n",
    "dfMO[ \"womPercMen\" ] = dfMO.Nwom / dfMO.Nman\n",
    "wpmAll = dfMO.womPercMen.mean()\n",
    "dfPre201611 = dfMO[ dfMO[ 'mo' ] < 201611 ].copy()\n",
    "dfPre201611[ \"womPercMen\" ] = dfPre201611.Nwom / dfPre201611.Nman\n",
    "wpmPre201611 = dfPre201611.womPercMen.mean()\n",
    "dfPos201611 = dfMO[ dfMO[ 'mo' ] >= 201611 ].copy()\n",
    "dfPos201611[ \"womPercMen\" ] = dfPos201611.Nwom / dfPos201611.Nman\n",
    "wpmPos201611 = dfPos201611.womPercMen.mean()\n",
    "\n",
    "utls.write( [\n",
    "    (\"First Parity\", firstParity),\n",
    "    (\"nWom % nMal\", f\"{wpmAll:.2f}\"),\n",
    "    (\"W%M pre-1611\", f\"{wpmPre201611:.2f}\"),\n",
    "    (\"W%M pos-1611\", f\"{wpmPos201611:.2f}\"), ],\n",
    "    bullets=True )"
   ],
   "metadata": {
    "collapsed": false,
    "pycharm": {
     "name": "#%%\n"
    }
   }
  },
  {
   "cell_type": "markdown",
   "source": [
    "- Male pronouns used far more often than female (female average frequency is \n",
    "0.45 that of male)\n",
    "- Mostly (until end 2017), female pronouns are used on average 0.35 the \n",
    "frequency of male pronouns\n",
    "- Female pronoun counts then rise rapidly to average 0.70 the male amount\n",
    "- This convergence is ostensibly the result of male pronouns being \n",
    "used less frequently, rather than female pronouns being used more frequently\n",
    "- Absolute parity is nearly reached in March 2017, possibly due to \n",
    "International Women's Day on the 8th.\n",
    "- Parity is reached (exceeded) in March 2021 and several times afterward\n",
    "\n",
    "Taking a closer look at the segment where parity is reached and exceeded - \n",
    "exceeded at first quite dramatically, at over twice the male frequency:"
   ],
   "metadata": {
    "collapsed": false,
    "pycharm": {
     "name": "#%% md\n"
    }
   }
  },
  {
   "cell_type": "code",
   "execution_count": 277,
   "outputs": [
    {
     "data": {
      "text/plain": "<Figure size 720x360 with 1 Axes>",
      "image/png": "[encoded data removed]"
     },
     "metadata": {},
     "output_type": "display_data"
    }
   ],
   "source": [
    "plotOverlapping( dfParity, 'mo', 'Nman', 'Nwom', \"Count\", (10, 5),\n",
    "    title=f\"Monthly Headline Word Occurrence (from {firstParity=})\" )"
   ],
   "metadata": {
    "collapsed": false,
    "pycharm": {
     "name": "#%%\n"
    }
   }
  },
  {
   "cell_type": "code",
   "execution_count": 278,
   "outputs": [
    {
     "name": "stdout",
     "output_type": "stream",
     "text": [
      "202103: Top 15 most common:\n",
      "    -  ('covid', 166)\n",
      "    -  ('vaccine', 95)\n",
      "    -  ('nsw', 85)\n",
      "    -  ('australia', 85)\n",
      "    -  ('new', 84)\n",
      "    -  ('19', 84)\n",
      "    -  ('wa', 77)\n",
      "    -  ('police', 67)\n",
      "    -  ('says', 67)\n",
      "    -  ('queensland', 67)\n",
      "    -  ('coronavirus', 62)\n",
      "    -  ('women', 62)\n",
      "    -  ('australian', 53)\n",
      "    -  ('sydney', 51)\n",
      "    -  ('government', 49)\n",
      "202103, filtered for female pronoun-containing: Top 15 most common:\n",
      "    -  ('women', 62)\n",
      "    -  ('womens', 18)\n",
      "    -  ('woman', 16)\n",
      "    -  ('weather', 16)\n",
      "    -  ('says', 14)\n",
      "    -  ('march', 14)\n",
      "    -  ('nsw', 13)\n",
      "    -  ('4', 10)\n",
      "    -  ('female', 9)\n",
      "    -  ('justice', 9)\n",
      "    -  ('parliament', 9)\n",
      "    -  ('her', 8)\n",
      "    -  ('mother', 8)\n",
      "    -  ('canberra', 8)\n",
      "    -  ('wild', 7)\n"
     ]
    }
   ],
   "source": [
    "# Checking difference in most-common distribution on PARITY date\n",
    "#   between total and female-pronoun-containing\n",
    "\n",
    "print( f\"202103: Top 15 most common:\" )\n",
    "for c in returnCounts( df[ df[ 'date' ].astype( str ).str.startswith(\n",
    "    '202103', na=False ) ] )[ :15 ]: print( \"    - \", c )\n",
    "\n",
    "# filter orig df by headlines containing female pronouns\n",
    "dfOR_wom = dfOR[ dfOR[ 'headline_text' ].str.contains( '|'.join( wo ) ) ]\n",
    "\n",
    "# # explode by headline word\n",
    "df_WOM = dfOR_wom.assign( headline_text=dfOR_wom[ 'headline_text' ].str.split(\n",
    "    ' ' ) ).explode( 'headline_text' ).reset_index()\n",
    "\n",
    "df_WOM.columns = [ \"hNum\", \"date\", \"word\" ]\n",
    "\n",
    "print( f\"202103, filtered for female pronoun-containing: Top 15 most common:\" )\n",
    "for c in returnCounts( df_WOM[ df_WOM[ 'date' ].astype( str ).str.startswith(\n",
    "    '202103', na=False ) ] )[ :15 ]: print( \"    - \", c )"
   ],
   "metadata": {
    "collapsed": false,
    "pycharm": {
     "name": "#%%\n"
    }
   }
  },
  {
   "cell_type": "markdown",
   "source": [
    "In the month (March 2021) that male pronoun-containing headlines are first \n",
    "outnumbered by female pronoun-containing headlines, a series of high-profile \n",
    "media events are occurring in relation to [various allegations of sex crimes in \n",
    "and around the membership of the Australian National Parliament](\n",
    "https://en.wikipedia.org/wiki/2021_Australian_Parliament_House_sexual_misconduct_allegations), \n",
    "one involving the Attorney General. It also encompassed International Womens Day.  \n",
    "\n",
    "After this day, combined use of male and female gendered pronouns diminishes \n",
    "and finishes at a considerable low. Is this related to a diminishment in the \n",
    "overall headline count, or just the balance of gendered pronouns?"
   ],
   "metadata": {
    "collapsed": false,
    "pycharm": {
     "name": "#%% md\n"
    }
   }
  },
  {
   "cell_type": "code",
   "execution_count": 279,
   "outputs": [
    {
     "data": {
      "text/plain": " - dfPre2103.Ntot.mean()                       5666.39\n - dfPOS2103.Ntot.mean()                        989.11\n - Diminish to _% of original                     0.17\n\n - dfPre2103.Nwom.mean()                         74.36\n - dfPOS2103.Nwom.mean()                         16.67\n - Diminish to _% of original                     0.22\n\n - dfPre2103.Nman.mean()                        183.32\n - dfPOS2103.Nman.mean()                         23.33\n - Diminish to _% of original                     0.13\n\n - dfPre2103.womPercMen.mean()                    0.43\n - dfPOS2103.womPercMen.mean()                    0.81",
      "text/html": "<style>pre { line-height: 125%; }\ntd.linenos .normal { color: inherit; background-color: transparent; padding-left: 5px; padding-right: 5px; }\nspan.linenos { color: inherit; background-color: transparent; padding-left: 5px; padding-right: 5px; }\ntd.linenos .special { color: #000000; background-color: #ffffc0; padding-left: 5px; padding-right: 5px; }\nspan.linenos.special { color: #000000; background-color: #ffffc0; padding-left: 5px; padding-right: 5px; }\n.output_html .hll { background-color: #ffffcc }\n.output_html { background: #f8f8f8; }\n.output_html .c { color: #3D7B7B; font-style: italic } /* Comment */\n.output_html .err { border: 1px solid #FF0000 } /* Error */\n.output_html .k { color: #008000; font-weight: bold } /* Keyword */\n.output_html .o { color: #666666 } /* Operator */\n.output_html .ch { color: #3D7B7B; font-style: italic } /* Comment.Hashbang */\n.output_html .cm { color: #3D7B7B; font-style: italic } /* Comment.Multiline */\n.output_html .cp { color: #9C6500 } /* Comment.Preproc */\n.output_html .cpf { color: #3D7B7B; font-style: italic } /* Comment.PreprocFile */\n.output_html .c1 { color: #3D7B7B; font-style: italic } /* Comment.Single */\n.output_html .cs { color: #3D7B7B; font-style: italic } /* Comment.Special */\n.output_html .gd { color: #A00000 } /* Generic.Deleted */\n.output_html .ge { font-style: italic } /* Generic.Emph */\n.output_html .gr { color: #E40000 } /* Generic.Error */\n.output_html .gh { color: #000080; font-weight: bold } /* Generic.Heading */\n.output_html .gi { color: #008400 } /* Generic.Inserted */\n.output_html .go { color: #717171 } /* Generic.Output */\n.output_html .gp { color: #000080; font-weight: bold } /* Generic.Prompt */\n.output_html .gs { font-weight: bold } /* Generic.Strong */\n.output_html .gu { color: #800080; font-weight: bold } /* Generic.Subheading */\n.output_html .gt { color: #0044DD } /* Generic.Traceback */\n.output_html .kc { color: #008000; font-weight: bold } /* Keyword.Constant */\n.output_html .kd { color: #008000; font-weight: bold } /* Keyword.Declaration */\n.output_html .kn { color: #008000; font-weight: bold } /* Keyword.Namespace */\n.output_html .kp { color: #008000 } /* Keyword.Pseudo */\n.output_html .kr { color: #008000; font-weight: bold } /* Keyword.Reserved */\n.output_html .kt { color: #B00040 } /* Keyword.Type */\n.output_html .m { color: #666666 } /* Literal.Number */\n.output_html .s { color: #BA2121 } /* Literal.String */\n.output_html .na { color: #687822 } /* Name.Attribute */\n.output_html .nb { color: #008000 } /* Name.Builtin */\n.output_html .nc { color: #0000FF; font-weight: bold } /* Name.Class */\n.output_html .no { color: #880000 } /* Name.Constant */\n.output_html .nd { color: #AA22FF } /* Name.Decorator */\n.output_html .ni { color: #717171; font-weight: bold } /* Name.Entity */\n.output_html .ne { color: #CB3F38; font-weight: bold } /* Name.Exception */\n.output_html .nf { color: #0000FF } /* Name.Function */\n.output_html .nl { color: #767600 } /* Name.Label */\n.output_html .nn { color: #0000FF; font-weight: bold } /* Name.Namespace */\n.output_html .nt { color: #008000; font-weight: bold } /* Name.Tag */\n.output_html .nv { color: #19177C } /* Name.Variable */\n.output_html .ow { color: #AA22FF; font-weight: bold } /* Operator.Word */\n.output_html .w { color: #bbbbbb } /* Text.Whitespace */\n.output_html .mb { color: #666666 } /* Literal.Number.Bin */\n.output_html .mf { color: #666666 } /* Literal.Number.Float */\n.output_html .mh { color: #666666 } /* Literal.Number.Hex */\n.output_html .mi { color: #666666 } /* Literal.Number.Integer */\n.output_html .mo { color: #666666 } /* Literal.Number.Oct */\n.output_html .sa { color: #BA2121 } /* Literal.String.Affix */\n.output_html .sb { color: #BA2121 } /* Literal.String.Backtick */\n.output_html .sc { color: #BA2121 } /* Literal.String.Char */\n.output_html .dl { color: #BA2121 } /* Literal.String.Delimiter */\n.output_html .sd { color: #BA2121; font-style: italic } /* Literal.String.Doc */\n.output_html .s2 { color: #BA2121 } /* Literal.String.Double */\n.output_html .se { color: #AA5D1F; font-weight: bold } /* Literal.String.Escape */\n.output_html .sh { color: #BA2121 } /* Literal.String.Heredoc */\n.output_html .si { color: #A45A77; font-weight: bold } /* Literal.String.Interpol */\n.output_html .sx { color: #008000 } /* Literal.String.Other */\n.output_html .sr { color: #A45A77 } /* Literal.String.Regex */\n.output_html .s1 { color: #BA2121 } /* Literal.String.Single */\n.output_html .ss { color: #19177C } /* Literal.String.Symbol */\n.output_html .bp { color: #008000 } /* Name.Builtin.Pseudo */\n.output_html .fm { color: #0000FF } /* Name.Function.Magic */\n.output_html .vc { color: #19177C } /* Name.Variable.Class */\n.output_html .vg { color: #19177C } /* Name.Variable.Global */\n.output_html .vi { color: #19177C } /* Name.Variable.Instance */\n.output_html .vm { color: #19177C } /* Name.Variable.Magic */\n.output_html .il { color: #666666 } /* Literal.Number.Integer.Long */</style><div class=\"highlight\"><pre><span></span> - dfPre2103.Ntot.mean()                       5666.39\n - dfPOS2103.Ntot.mean()                        989.11\n - Diminish to _% of original                     0.17\n\n - dfPre2103.Nwom.mean()                         74.36\n - dfPOS2103.Nwom.mean()                         16.67\n - Diminish to _% of original                     0.22\n\n - dfPre2103.Nman.mean()                        183.32\n - dfPOS2103.Nman.mean()                         23.33\n - Diminish to _% of original                     0.13\n\n - dfPre2103.womPercMen.mean()                    0.43\n - dfPOS2103.womPercMen.mean()                    0.81\n</pre></div>\n",
      "text/latex": "\\begin{Verbatim}[commandchars=\\\\\\{\\}]\n \\PYZhy{} dfPre2103.Ntot.mean()                       5666.39\n \\PYZhy{} dfPOS2103.Ntot.mean()                        989.11\n \\PYZhy{} Diminish to \\PYZus{}\\PYZpc{} of original                     0.17\n\n \\PYZhy{} dfPre2103.Nwom.mean()                         74.36\n \\PYZhy{} dfPOS2103.Nwom.mean()                         16.67\n \\PYZhy{} Diminish to \\PYZus{}\\PYZpc{} of original                     0.22\n\n \\PYZhy{} dfPre2103.Nman.mean()                        183.32\n \\PYZhy{} dfPOS2103.Nman.mean()                         23.33\n \\PYZhy{} Diminish to \\PYZus{}\\PYZpc{} of original                     0.13\n\n \\PYZhy{} dfPre2103.womPercMen.mean()                    0.43\n \\PYZhy{} dfPOS2103.womPercMen.mean()                    0.81\n\\end{Verbatim}\n"
     },
     "metadata": {},
     "output_type": "display_data"
    }
   ],
   "source": [
    "import importlib\n",
    "import dUtils\n",
    "\n",
    "utls = importlib.reload( dUtils )\n",
    "\n",
    "preDat, postDate = 202103, 202103\n",
    "\n",
    "# total headline count AFTER 202103  >> percent change\n",
    "dfPre = dfMO[ dfMO[ \"mo\" ] <= preDat ]\n",
    "dfPos = dfMO[ dfMO[ \"mo\" ] > postDate ]\n",
    "\n",
    "utls.write( [\n",
    "    (\"dfPre2103.Ntot.mean()\", f\"{dfPre.Ntot.mean(): >20.2f}\"),\n",
    "    (\"dfPOS2103.Ntot.mean()\", f\"{dfPos.Ntot.mean(): >20.2f}\"),\n",
    "    (\"Diminish to _% of original\",\n",
    "    f\"{dfPos.Ntot.mean() / dfPre.Ntot.mean(): >20.2f}\\n\"),\n",
    "    (\"dfPre2103.Nwom.mean()\", f\"{dfPre.Nwom.mean(): >20.2f}\"),\n",
    "    (\"dfPOS2103.Nwom.mean()\", f\"{dfPos.Nwom.mean(): >20.2f}\"),\n",
    "    (\"Diminish to _% of original\",\n",
    "    f\"{dfPos.Nwom.mean() / dfPre.Nwom.mean(): >20.2f}\\n\"),\n",
    "    (\"dfPre2103.Nman.mean()\", f\"{dfPre.Nman.mean(): >20.2f}\"),\n",
    "    (\"dfPOS2103.Nman.mean()\", f\"{dfPos.Nman.mean(): >20.2f}\"),\n",
    "    (\"Diminish to _% of original\",\n",
    "    f\"{dfPos.Nman.mean() / dfPre.Nman.mean(): >20.2f}\\n\"),\n",
    "    (\"dfPre2103.womPercMen.mean()\", f\"{dfPre.womPercMen.mean(): >20.2f}\"),\n",
    "    (\"dfPOS2103.womPercMen.mean()\", f\"{dfPos.womPercMen.mean(): >20.2f}\") ],\n",
    "    bullets=True )\n"
   ],
   "metadata": {
    "collapsed": false,
    "pycharm": {
     "name": "#%%\n"
    }
   }
  },
  {
   "cell_type": "markdown",
   "source": [
    "The average total headline count does diminish hugely after March '21, and while \n",
    "male pronoun-containin headlines diminished by a larger proportion than the total,\n",
    "female pronoun-containing headlines dimished by a proportion smaller than the \n",
    "total. The ratio for headlines containing pronouns moves from 0.43 to 0.81 \n",
    "female-to-male.\n"
   ],
   "metadata": {
    "collapsed": false,
    "pycharm": {
     "name": "#%% md\n"
    }
   }
  },
  {
   "cell_type": "markdown",
   "source": [
    "#### Summary interpretations\n",
    "\n",
    "The public concern for stories dominated by either has drawn significantly \n",
    "closer to parity in recent years, while women remain consistently less in-focus \n",
    "than men."
   ],
   "metadata": {
    "collapsed": false,
    "pycharm": {
     "name": "#%% md\n"
    }
   }
  },
  {
   "cell_type": "code",
   "execution_count": 279,
   "outputs": [],
   "source": [],
   "metadata": {
    "collapsed": false,
    "pycharm": {
     "name": "#%%  # END_INCLUDE"
    }
   }
  }
 ],
 "metadata": {
  "kernelspec": {
   "display_name": "Python 3",
   "language": "python",
   "name": "python3"
  },
  "language_info": {
   "codemirror_mode": {
    "name": "ipython",
    "version": 2
   },
   "file_extension": ".py",
   "mimetype": "text/x-python",
   "name": "python",
   "nbconvert_exporter": "python",
   "pygments_lexer": "ipython2",
   "version": "2.7.6"
  }
 },
 "nbformat": 4,
 "nbformat_minor": 0
}