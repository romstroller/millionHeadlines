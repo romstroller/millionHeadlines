{
 "cells": [
  {
   "cell_type": "code",
   "execution_count": 1,
   "metadata": {
    "collapsed": true
   },
   "outputs": [],
   "source": [
    "import osOps  # see github.com/romstroller/FileTools\n",
    "import dUtils as utls\n",
    "\n",
    "import matplotlib.pyplot as plt\n",
    "from collections import Counter\n",
    "import pandas as pd\n",
    "import nltk\n",
    "import os"
   ]
  },
  {
   "cell_type": "markdown",
   "source": [
    "## Gender in a million headlines\n",
    "\n",
    "***\n",
    "### OBJECTIVE\n",
    "\n",
    "This report examines the comparative prominence of different genders in the \n",
    "main subject matter of news communications - specifically, how the balance of \n",
    "coverage between male and female individuals or groups, by frequency of words \n",
    "in a headline (\"headwords\"), has changed through time. Analysis is limited to \n",
    "headlines from the Australian national broadcaster (the ABC). The aim is to \n",
    "establish the scope and support for editorial policy changes which enable a \n",
    "more representative distribution of gender in media, if an imbalance is found \n",
    "to exist.\n",
    "\n",
    "**STAKEHOLDERS:**\n",
    "\n",
    "**OUTCOME:**\n",
    "\n",
    "### DATA acquisition, cleaning and feature engineering"
   ],
   "metadata": {
    "collapsed": false
   }
  },
  {
   "cell_type": "code",
   "execution_count": 2,
   "outputs": [
    {
     "name": "stdout",
     "output_type": "stream",
     "text": [
      "- [221018_202237029200] Got 'million-headlines.zip'\n",
      "                        dated='2022_08_30_13_12_02_078157'\n"
     ]
    }
   ],
   "source": [
    "dfOR = osOps.OsKit().getKaggleSet( 'therohk', 'million-headlines' )"
   ],
   "metadata": {
    "collapsed": false,
    "pycharm": {
     "name": "#%%\n"
    }
   }
  },
  {
   "cell_type": "code",
   "execution_count": 3,
   "outputs": [
    {
     "name": "stdout",
     "output_type": "stream",
     "text": [
      "- n articles: 1244184\n",
      "- av. art/mo: 180.79\n",
      "- begin date: 20030219\n",
      "- until date: 20211231\n"
     ]
    }
   ],
   "source": [
    "print( f\"- n articles: {dfOR.shape[0]}\" )\n",
    "print( f\"- av. art/mo: {dfOR.groupby('publish_date').count().mean()[0]:.2f}\" )\n",
    "print( f\"- begin date: {(dfDat := sorted(dfOR.publish_date.to_list()))[0]}\" )\n",
    "print( f\"- until date: {dfDat[-1]}\" )"
   ],
   "metadata": {
    "collapsed": false,
    "pycharm": {
     "name": "#%%\n"
    }
   }
  },
  {
   "cell_type": "markdown",
   "source": [
    "The dataset comprises around 1.25 headlines dated from February 2003 and \n",
    "December 2021, averaging 180 per day.\n",
    "\n",
    "In order to analyse gender-reference frequency, or the number of times \n",
    "particular gender pronouns are used in a given day, each headline is to be \n",
    "split on each word, retaining the date indexation for each word."
   ],
   "metadata": {
    "collapsed": false
   }
  },
  {
   "cell_type": "code",
   "execution_count": 4,
   "outputs": [
    {
     "data": {
      "text/plain": "             date          word\n0        20030219           aba\n1        20030219       decides\n2        20030219       against\n3        20030219     community\n4        20030219  broadcasting\n...           ...           ...\n8158762  20211231          here\n8158763  20211231           are\n8158764  20211231           the\n8158765  20211231           new\n8158766  20211231         rules\n\n[8158767 rows x 2 columns]",
      "text/html": "<div>\n<style scoped>\n    .dataframe tbody tr th:only-of-type {\n        vertical-align: middle;\n    }\n\n    .dataframe tbody tr th {\n        vertical-align: top;\n    }\n\n    .dataframe thead th {\n        text-align: right;\n    }\n</style>\n<table border=\"1\" class=\"dataframe\">\n  <thead>\n    <tr style=\"text-align: right;\">\n      <th></th>\n      <th>date</th>\n      <th>word</th>\n    </tr>\n  </thead>\n  <tbody>\n    <tr>\n      <th>0</th>\n      <td>20030219</td>\n      <td>aba</td>\n    </tr>\n    <tr>\n      <th>1</th>\n      <td>20030219</td>\n      <td>decides</td>\n    </tr>\n    <tr>\n      <th>2</th>\n      <td>20030219</td>\n      <td>against</td>\n    </tr>\n    <tr>\n      <th>3</th>\n      <td>20030219</td>\n      <td>community</td>\n    </tr>\n    <tr>\n      <th>4</th>\n      <td>20030219</td>\n      <td>broadcasting</td>\n    </tr>\n    <tr>\n      <th>...</th>\n      <td>...</td>\n      <td>...</td>\n    </tr>\n    <tr>\n      <th>8158762</th>\n      <td>20211231</td>\n      <td>here</td>\n    </tr>\n    <tr>\n      <th>8158763</th>\n      <td>20211231</td>\n      <td>are</td>\n    </tr>\n    <tr>\n      <th>8158764</th>\n      <td>20211231</td>\n      <td>the</td>\n    </tr>\n    <tr>\n      <th>8158765</th>\n      <td>20211231</td>\n      <td>new</td>\n    </tr>\n    <tr>\n      <th>8158766</th>\n      <td>20211231</td>\n      <td>rules</td>\n    </tr>\n  </tbody>\n</table>\n<p>8158767 rows × 2 columns</p>\n</div>"
     },
     "execution_count": 4,
     "metadata": {},
     "output_type": "execute_result"
    }
   ],
   "source": [
    "# split headlines into word-by-date\n",
    "df = pd.DataFrame( dfOR.headline_text.str.split( ' ' ).tolist(),\n",
    "    index=dfOR.publish_date ).stack().reset_index( inplace=False )\n",
    "df.rename( columns={ 0: 'word', 'publish_date': 'date' }, inplace=True )\n",
    "del df[ 'level_1' ]\n",
    "df"
   ],
   "metadata": {
    "collapsed": false,
    "pycharm": {
     "name": "#%%\n"
    }
   }
  },
  {
   "cell_type": "markdown",
   "source": [
    "#### Dimensionality and noise reduction\n",
    "The general distribution of headword frequency contains a lot of noise from \n",
    "words which perform only a syntactical function - \"stopwords\", usually \n",
    "nonsubstantive prepositions and conjunctions like \"a\", \"and\", \"the\", which \n",
    "appear among maxima in frequency counts because they are required for common \n",
    "construction. For this analysis, where a stopword is not itself a gender \n",
    "pronoun, it can be excluded from the dataset as a processing convenience.     \n",
    "\n",
    "#### Gender keywords\n",
    "Gendered individuals as objects of communication, in a set where non-gendered \n",
    "stopwords are omitted) be estimated to occur:\n",
    "\n",
    "- **Variant one**: for males, equally with \"man\" and \"men\", and for \n",
    "females, likewise with \"woman\" and \"women\".\n",
    "\n",
    "- **Variant two (extended)**:\n",
    " - Include \"male\", \"males\", \"man\", \"men, \"female\", \"females\", \"woman\", \"women\"\n",
    " - \"for males, equally for occurances of \"he\", \"him\", \"his\", \"himself\" ( and \n",
    "common syntactical variations like \"he's\" and \"he'd\" ) and equivalently for \n",
    "females with \"she\", \"her\", \"hers\", \"herself\".\"\n",
    " - \"boys\", \"boy\", \"girl\", \"girls\"?\n",
    "\n",
    "#### Get count omitting stopwords"
   ],
   "metadata": {
    "collapsed": false
   }
  },
  {
   "cell_type": "code",
   "execution_count": 5,
   "outputs": [
    {
     "name": "stderr",
     "output_type": "stream",
     "text": [
      "[nltk_data] Downloading package stopwords to\n",
      "[nltk_data]     C:\\Users\\romstroller\\PYC\\millionHeadlines...\n",
      "[nltk_data]   Package stopwords is already up-to-date!\n"
     ]
    },
    {
     "name": "stdout",
     "output_type": "stream",
     "text": [
      "('police', 39813)\n",
      "('new', 33729)\n",
      "('man', 30627)\n",
      "('says', 23731)\n",
      "('us', 20370)\n",
      "('court', 18180)\n",
      "('govt', 17091)\n",
      "('australia', 17071)\n",
      "('council', 16955)\n",
      "('nsw', 16516)\n",
      "('fire', 15512)\n",
      "('interview', 15426)\n",
      "('australian', 13632)\n",
      "('wa', 13464)\n",
      "('sydney', 13065)\n",
      "('plan', 12993)\n",
      "('water', 12850)\n",
      "('death', 12749)\n",
      "('qld', 12590)\n",
      "('crash', 12356)\n",
      "('health', 11967)\n",
      "('back', 11221)\n",
      "('charged', 11193)\n",
      "('murder', 10529)\n",
      "('report', 10413)\n"
     ]
    }
   ],
   "source": [
    "# get and omit non-gen stopwords, run counter\n",
    "nltk.download( 'stopwords', download_dir=os.getcwd() )\n",
    "with open( \"corpora\\stopwords\\english\", 'r' ) as f:\n",
    "    stopwords = [ line.strip() for line in f ]\n",
    "m, f = [ \"man\", \"men\" ], [\"woman\", \"women\" ]\n",
    "# EXTENDED\n",
    "# m = [ \"male\", \"males\", \"man\", \"men\", \"he\", \"him\", \"his\", \"himself\"  ]\n",
    "# f = [ \"female\", \"females\", \"woman\", \"women\", \"she\", \"her\", \"hers\", \"herself\" ]\n",
    "stopwordsV1 = [ w for w in stopwords if w not in m + f ]\n",
    "dfNonStopV1 = df[ ~df[ 'word' ].isin( stopwordsV1 ) ]\n",
    "wordcount = Counter( dfNonStopV1[ 'word' ].tolist() )\n",
    "mostComm = wordcount.most_common()\n",
    "for w in mostComm[ :25 ]: print( w )"
   ],
   "metadata": {
    "collapsed": false,
    "pycharm": {
     "name": "#%%\n"
    }
   }
  },
  {
   "cell_type": "markdown",
   "source": [
    "***\n",
    "\n",
    "###  ANALYSIS, Interpretation and Visualisation\n",
    "\n",
    "#### Initial observations\n",
    "\n",
    "A glaring insight for our objective is already available at this point:\n",
    "*man* is the third-most common word altogether, gendered or otherwise, in \n",
    "this cleaned dataset, while none of our female headwords are even in the \n",
    "top 25. How are the female headwords ranked?"
   ],
   "metadata": {
    "collapsed": false
   }
  },
  {
   "cell_type": "code",
   "execution_count": 6,
   "outputs": [
    {
     "name": "stdout",
     "output_type": "stream",
     "text": [
      "rank 3: man (count 30627)\n",
      "rank 37: woman (count 9463)\n",
      "rank 246: women (count 3867)\n",
      "rank 321: men (count 3160)\n"
     ]
    }
   ],
   "source": [
    "for c in [\n",
    "    f\"rank {i + 1}: {x[ 0 ]} (count {x[ 1 ]})\" for i, x in enumerate( mostComm )\n",
    "    if x[ 0 ] in [ \"man\", \"men\", \"woman\", \"women\" ] ]:\n",
    "    print( c )"
   ],
   "metadata": {
    "collapsed": false,
    "pycharm": {
     "name": "#%% \n"
    }
   }
  },
  {
   "cell_type": "markdown",
   "source": [
    "\"Woman\" doesn't get in the ranking until 37th, over three times less-frequently \n",
    "than \"man\". Interestingly, \"women\" then appears at 246th, some ways above \"men\" \n",
    "at 321st. In the simplistic limitations of our analysis, if a group of gendered \n",
    "people is of concern, it is more likely to be of women, while if a gendered \n",
    "individual is of concern, it is more likely to be a man.\n",
    "\n",
    "To clearly present the shifting balance of gendered headwords through time, \n",
    "the count of male versus female headwords from the beginning to end date of the \n",
    "dataset is collected by month and plotted in overlay."
   ],
   "metadata": {
    "collapsed": false,
    "pycharm": {
     "name": "#%% md\n"
    }
   }
  },
  {
   "cell_type": "code",
   "execution_count": 7,
   "outputs": [
    {
     "data": {
      "text/plain": "       date  menCount  womCount\n0    200302        74        17\n1    200303       159        51\n2    200304       146        40\n3    200305       164        49\n4    200306       158        42\n..      ...       ...       ...\n222  202108        10        11\n223  202109         4        10\n224  202110         9         9\n225  202111        23         7\n226  202112         9        14\n\n[227 rows x 3 columns]",
      "text/html": "<div>\n<style scoped>\n    .dataframe tbody tr th:only-of-type {\n        vertical-align: middle;\n    }\n\n    .dataframe tbody tr th {\n        vertical-align: top;\n    }\n\n    .dataframe thead th {\n        text-align: right;\n    }\n</style>\n<table border=\"1\" class=\"dataframe\">\n  <thead>\n    <tr style=\"text-align: right;\">\n      <th></th>\n      <th>date</th>\n      <th>menCount</th>\n      <th>womCount</th>\n    </tr>\n  </thead>\n  <tbody>\n    <tr>\n      <th>0</th>\n      <td>200302</td>\n      <td>74</td>\n      <td>17</td>\n    </tr>\n    <tr>\n      <th>1</th>\n      <td>200303</td>\n      <td>159</td>\n      <td>51</td>\n    </tr>\n    <tr>\n      <th>2</th>\n      <td>200304</td>\n      <td>146</td>\n      <td>40</td>\n    </tr>\n    <tr>\n      <th>3</th>\n      <td>200305</td>\n      <td>164</td>\n      <td>49</td>\n    </tr>\n    <tr>\n      <th>4</th>\n      <td>200306</td>\n      <td>158</td>\n      <td>42</td>\n    </tr>\n    <tr>\n      <th>...</th>\n      <td>...</td>\n      <td>...</td>\n      <td>...</td>\n    </tr>\n    <tr>\n      <th>222</th>\n      <td>202108</td>\n      <td>10</td>\n      <td>11</td>\n    </tr>\n    <tr>\n      <th>223</th>\n      <td>202109</td>\n      <td>4</td>\n      <td>10</td>\n    </tr>\n    <tr>\n      <th>224</th>\n      <td>202110</td>\n      <td>9</td>\n      <td>9</td>\n    </tr>\n    <tr>\n      <th>225</th>\n      <td>202111</td>\n      <td>23</td>\n      <td>7</td>\n    </tr>\n    <tr>\n      <th>226</th>\n      <td>202112</td>\n      <td>9</td>\n      <td>14</td>\n    </tr>\n  </tbody>\n</table>\n<p>227 rows × 3 columns</p>\n</div>"
     },
     "execution_count": 7,
     "metadata": {},
     "output_type": "execute_result"
    }
   ],
   "source": [
    "# produce dfs grouping monthly counts for each gender headword set \n",
    "genDfs = [ ]\n",
    "for t, gdr in { 'men': [ \"man\", \"men\" ], 'wom': [ \"woman\", \"women\" ] }.items():\n",
    "    gDf = pd.concat( [\n",
    "        dfNonStopV1[ dfNonStopV1.word == gdr[ 0 ] ],\n",
    "        dfNonStopV1[ dfNonStopV1.word == gdr[ 1 ] ]\n",
    "        ], axis=0 ).sort_values( by=[ 'date' ], ascending=True )\n",
    "    gDf[ 'date' ] = gDf[ 'date' ].astype( str ).str[ :6 ]  # by month\n",
    "    gDf = gDf.groupby( 'date' ).size().reset_index( name=f'{t}Count' )\n",
    "    genDfs.append( gDf )\n",
    "\n",
    "merged = pd.merge( genDfs[ 0 ], genDfs[ 1 ], on='date' ).set_index( 'date' )\n",
    "merged.reset_index( inplace=True )\n",
    "df = merged.sort_values( by='date', ascending=True ).astype( int )\n",
    "\n",
    "df"
   ],
   "metadata": {
    "collapsed": false,
    "pycharm": {
     "name": "#%% \n"
    }
   }
  },
  {
   "cell_type": "code",
   "execution_count": 42,
   "outputs": [
    {
     "data": {
      "text/plain": "<Figure size 864x432 with 1 Axes>",
      "image/png": "[encoded data removed]"
     },
     "metadata": {},
     "output_type": "display_data"
    }
   ],
   "source": [
    "def plotOverlapping( _df, _xFt, _y1ft, _y2ft, yLab, figsiz, title = \"\" ):\n",
    "    \n",
    "    plt.figure( figsize=figsiz, facecolor=\"white\", )\n",
    "    \n",
    "    x = _df[ _xFt ]\n",
    "    xpos = [ i for i, _ in enumerate( x ) ]\n",
    "    \n",
    "    cols = { _y1ft: '#440154', _y2ft: '#fde725', 'overlap': \"#b38b38\" }\n",
    "    \n",
    "    plt.bar( xpos, _df[ _y2ft ], color=cols[ _y2ft ] )\n",
    "    plt.bar( xpos, _df[ _y1ft ], color=cols[ _y1ft ] )\n",
    "    plt.bar( xpos, _df[ _y2ft ], color=cols[ _y2ft ], alpha=0.6 )\n",
    "    ax1 = plt.gca()\n",
    "    ax1.set_facecolor( '#808080' )\n",
    "    \n",
    "    plt.xlabel( _xFt )\n",
    "    plt.ylabel( yLab )\n",
    "    plt.title( title )\n",
    "    plt.xticks( xpos, x )\n",
    "    plt.xticks( rotation=90 )\n",
    "    ax1.locator_params( nbins=50, axis='x' )\n",
    "    \n",
    "    labs = list( cols.keys() )\n",
    "    plt.legend( [ plt.Rectangle( (0, 0), 1, 1, color=cols[ lb ] )\n",
    "        for lb in labs ], labs )\n",
    "    \n",
    "    plt.savefig( f'ghp_full{osOps.OsKit().dtStamp()}.png', bbox_inches='tight' )\n",
    "    plt.show()\n",
    "\n",
    "plotOverlapping( df, 'date', 'menCount', 'womCount', \"Count\", (12, 6),\n",
    "    title=\"Monthly Headline Word Occurrence - Women vs. Men (2003 - 2019)\" )"
   ],
   "metadata": {
    "collapsed": false,
    "pycharm": {
     "name": "#%% \n"
    }
   }
  },
  {
   "cell_type": "code",
   "execution_count": 50,
   "outputs": [
    {
     "data": {
      "text/plain": " - First Parity    202103\n - Wom % Mal Fr    0.46\n - W%M pre-1611    0.35\n - W%M pos-1611    0.77",
      "text/html": "<style>pre { line-height: 125%; }\ntd.linenos .normal { color: inherit; background-color: transparent; padding-left: 5px; padding-right: 5px; }\nspan.linenos { color: inherit; background-color: transparent; padding-left: 5px; padding-right: 5px; }\ntd.linenos .special { color: #000000; background-color: #ffffc0; padding-left: 5px; padding-right: 5px; }\nspan.linenos.special { color: #000000; background-color: #ffffc0; padding-left: 5px; padding-right: 5px; }\n.output_html .hll { background-color: #ffffcc }\n.output_html { background: #f8f8f8; }\n.output_html .c { color: #3D7B7B; font-style: italic } /* Comment */\n.output_html .err { border: 1px solid #FF0000 } /* Error */\n.output_html .k { color: #008000; font-weight: bold } /* Keyword */\n.output_html .o { color: #666666 } /* Operator */\n.output_html .ch { color: #3D7B7B; font-style: italic } /* Comment.Hashbang */\n.output_html .cm { color: #3D7B7B; font-style: italic } /* Comment.Multiline */\n.output_html .cp { color: #9C6500 } /* Comment.Preproc */\n.output_html .cpf { color: #3D7B7B; font-style: italic } /* Comment.PreprocFile */\n.output_html .c1 { color: #3D7B7B; font-style: italic } /* Comment.Single */\n.output_html .cs { color: #3D7B7B; font-style: italic } /* Comment.Special */\n.output_html .gd { color: #A00000 } /* Generic.Deleted */\n.output_html .ge { font-style: italic } /* Generic.Emph */\n.output_html .gr { color: #E40000 } /* Generic.Error */\n.output_html .gh { color: #000080; font-weight: bold } /* Generic.Heading */\n.output_html .gi { color: #008400 } /* Generic.Inserted */\n.output_html .go { color: #717171 } /* Generic.Output */\n.output_html .gp { color: #000080; font-weight: bold } /* Generic.Prompt */\n.output_html .gs { font-weight: bold } /* Generic.Strong */\n.output_html .gu { color: #800080; font-weight: bold } /* Generic.Subheading */\n.output_html .gt { color: #0044DD } /* Generic.Traceback */\n.output_html .kc { color: #008000; font-weight: bold } /* Keyword.Constant */\n.output_html .kd { color: #008000; font-weight: bold } /* Keyword.Declaration */\n.output_html .kn { color: #008000; font-weight: bold } /* Keyword.Namespace */\n.output_html .kp { color: #008000 } /* Keyword.Pseudo */\n.output_html .kr { color: #008000; font-weight: bold } /* Keyword.Reserved */\n.output_html .kt { color: #B00040 } /* Keyword.Type */\n.output_html .m { color: #666666 } /* Literal.Number */\n.output_html .s { color: #BA2121 } /* Literal.String */\n.output_html .na { color: #687822 } /* Name.Attribute */\n.output_html .nb { color: #008000 } /* Name.Builtin */\n.output_html .nc { color: #0000FF; font-weight: bold } /* Name.Class */\n.output_html .no { color: #880000 } /* Name.Constant */\n.output_html .nd { color: #AA22FF } /* Name.Decorator */\n.output_html .ni { color: #717171; font-weight: bold } /* Name.Entity */\n.output_html .ne { color: #CB3F38; font-weight: bold } /* Name.Exception */\n.output_html .nf { color: #0000FF } /* Name.Function */\n.output_html .nl { color: #767600 } /* Name.Label */\n.output_html .nn { color: #0000FF; font-weight: bold } /* Name.Namespace */\n.output_html .nt { color: #008000; font-weight: bold } /* Name.Tag */\n.output_html .nv { color: #19177C } /* Name.Variable */\n.output_html .ow { color: #AA22FF; font-weight: bold } /* Operator.Word */\n.output_html .w { color: #bbbbbb } /* Text.Whitespace */\n.output_html .mb { color: #666666 } /* Literal.Number.Bin */\n.output_html .mf { color: #666666 } /* Literal.Number.Float */\n.output_html .mh { color: #666666 } /* Literal.Number.Hex */\n.output_html .mi { color: #666666 } /* Literal.Number.Integer */\n.output_html .mo { color: #666666 } /* Literal.Number.Oct */\n.output_html .sa { color: #BA2121 } /* Literal.String.Affix */\n.output_html .sb { color: #BA2121 } /* Literal.String.Backtick */\n.output_html .sc { color: #BA2121 } /* Literal.String.Char */\n.output_html .dl { color: #BA2121 } /* Literal.String.Delimiter */\n.output_html .sd { color: #BA2121; font-style: italic } /* Literal.String.Doc */\n.output_html .s2 { color: #BA2121 } /* Literal.String.Double */\n.output_html .se { color: #AA5D1F; font-weight: bold } /* Literal.String.Escape */\n.output_html .sh { color: #BA2121 } /* Literal.String.Heredoc */\n.output_html .si { color: #A45A77; font-weight: bold } /* Literal.String.Interpol */\n.output_html .sx { color: #008000 } /* Literal.String.Other */\n.output_html .sr { color: #A45A77 } /* Literal.String.Regex */\n.output_html .s1 { color: #BA2121 } /* Literal.String.Single */\n.output_html .ss { color: #19177C } /* Literal.String.Symbol */\n.output_html .bp { color: #008000 } /* Name.Builtin.Pseudo */\n.output_html .fm { color: #0000FF } /* Name.Function.Magic */\n.output_html .vc { color: #19177C } /* Name.Variable.Class */\n.output_html .vg { color: #19177C } /* Name.Variable.Global */\n.output_html .vi { color: #19177C } /* Name.Variable.Instance */\n.output_html .vm { color: #19177C } /* Name.Variable.Magic */\n.output_html .il { color: #666666 } /* Literal.Number.Integer.Long */</style><div class=\"highlight\"><pre><span></span> - First Parity    202103\n - Wom % Mal Fr    0.46\n - W%M pre-1611    0.35\n - W%M pos-1611    0.77\n</pre></div>\n",
      "text/latex": "\\begin{Verbatim}[commandchars=\\\\\\{\\}]\n \\PYZhy{} First Parity    202103\n \\PYZhy{} Wom \\PYZpc{} Mal Fr    0.46\n \\PYZhy{} W\\PYZpc{}M pre\\PYZhy{}1611    0.35\n \\PYZhy{} W\\PYZpc{}M pos\\PYZhy{}1611    0.77\n\\end{Verbatim}\n"
     },
     "metadata": {},
     "output_type": "display_data"
    }
   ],
   "source": [
    "firstParity = df.loc[ df[ 'womCount' ] >= df[ 'menCount' ], 'date' ].iloc[ 0 ]\n",
    "\n",
    "# Focus on segment where womCount equals or exceeds menCount\n",
    "dfParity = df[ df[ 'date' ] > firstParity - 3 ]\n",
    "\n",
    "# average wom % men pre and post 201611, and all-time\n",
    "df[\"womPercMen\"] = df.womCount / df.menCount\n",
    "wpmAll = df.womPercMen.mean()\n",
    "dfPre201611 =  df[ df[ 'date' ] < 201611 ].copy()\n",
    "dfPre201611[\"womPercMen\"] = dfPre201611.womCount / dfPre201611.menCount\n",
    "wpmPre201611 = dfPre201611.womPercMen.mean()\n",
    "dfPos201611 =  df[ df[ 'date' ] >= 201611 ].copy()\n",
    "dfPos201611[\"womPercMen\"] = dfPos201611.womCount / dfPos201611.menCount\n",
    "wpmPos201611 = dfPos201611.womPercMen.mean()\n",
    "\n",
    "utls.write( { \n",
    "    \"First Parity\" : firstParity,\n",
    "    \"Wom % Mal Fr\" : f\"{wpmAll:.2f}\",\n",
    "    \"W%M pre-1611\" : f\"{wpmPre201611:.2f}\",\n",
    "    \"W%M pos-1611\" : f\"{wpmPos201611:.2f}\"\n",
    "    }, \n",
    "    bullets = True )"
   ],
   "metadata": {
    "collapsed": false,
    "pycharm": {
     "name": "#%%\n"
    }
   }
  },
  {
   "cell_type": "markdown",
   "source": [
    "- Male pronouns used far more often than female (female is 0.46 \n",
    "the average frequency of male)\n",
    "- Mostly (until end 2017), female pronouns are mentioned on average \n",
    "0.35 the frequency of male pronouns\n",
    "- Female pronoun mentions then rise rapidly to average 0.77 the male amount\n",
    "- This convergence is the result of the words \"men\" and \"man\" being used less, \n",
    "rather than \"woman\" and \"women\" being used more\n",
    "- Absolute parity is nearly reached in March 2017, possibly due to \n",
    "International Women's Day on the 8th.\n",
    "- Parity is reached (exceeded) in March 2021 and several times afterward\n",
    "\n",
    "Taking a closer look at the segment where parity is reached and exceeded - \n",
    "exceeded at first quite dramatically, at over twice the male frequency:"
   ],
   "metadata": {
    "collapsed": false,
    "pycharm": {
     "name": "#%% md\n"
    }
   }
  },
  {
   "cell_type": "code",
   "execution_count": 45,
   "outputs": [
    {
     "data": {
      "text/plain": "<Figure size 720x360 with 1 Axes>",
      "image/png": "[encoded data removed]"
     },
     "metadata": {},
     "output_type": "display_data"
    }
   ],
   "source": [
    "plotOverlapping( dfParity, 'date', 'menCount', 'womCount', \"Count\", (10, 5),\n",
    "    title=f\"Monthly Headline Word Occurrence (from {firstParity=})\" )"
   ],
   "metadata": {
    "collapsed": false,
    "pycharm": {
     "name": "#%%\n"
    }
   }
  },
  {
   "cell_type": "markdown",
   "source": [
    "#### Summary interpretations\n",
    "\n",
    "The public concern for stories dominated by either gender \n",
    "in particular as drawn significantly close to parity in recent years, while \n",
    "women remain consistently less in-focus than men.**"
   ],
   "metadata": {
    "collapsed": false,
    "pycharm": {
     "name": "#%% md\n"
    }
   }
  },
  {
   "cell_type": "code",
   "execution_count": null,
   "outputs": [],
   "source": [],
   "metadata": {
    "collapsed": false,
    "pycharm": {
     "name": "#%%  # END_INCLUDE"
    }
   }
  }
 ],
 "metadata": {
  "kernelspec": {
   "display_name": "Python 3",
   "language": "python",
   "name": "python3"
  },
  "language_info": {
   "codemirror_mode": {
    "name": "ipython",
    "version": 2
   },
   "file_extension": ".py",
   "mimetype": "text/x-python",
   "name": "python",
   "nbconvert_exporter": "python",
   "pygments_lexer": "ipython2",
   "version": "2.7.6"
  }
 },
 "nbformat": 4,
 "nbformat_minor": 0
}